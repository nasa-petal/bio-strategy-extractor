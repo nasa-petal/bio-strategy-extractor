{
 "cells": [
  {
   "cell_type": "code",
   "execution_count": 1,
   "id": "58b8e821",
   "metadata": {
    "scrolled": true
   },
   "outputs": [
    {
     "data": {
      "text/plain": [
       "['although annual fluctuations occur',\n",
       " 'birds found food close',\n",
       " \"twins ', though\",\n",
       " 'main prey types',\n",
       " 'limit breeding success',\n",
       " 'four experimental pairs',\n",
       " 'food availability',\n",
       " 'study shows',\n",
       " 'skomer puffins',\n",
       " 'single chicks',\n",
       " 'showing peaks',\n",
       " 'late afternoon',\n",
       " 'interesting observations',\n",
       " 'activity early',\n",
       " 'two',\n",
       " 'rear',\n",
       " 'rates',\n",
       " 'less',\n",
       " 'kleptoparasitism',\n",
       " 'jackdaws',\n",
       " 'gulls',\n",
       " 'growth',\n",
       " 'given',\n",
       " 'feeding',\n",
       " 'day',\n",
       " 'colony',\n",
       " 'chick',\n",
       " 'appear',\n",
       " 'adults',\n",
       " 'able']"
      ]
     },
     "execution_count": 1,
     "metadata": {},
     "output_type": "execute_result"
    }
   ],
   "source": [
    "import nltk\n",
    "import string\n",
    "from heapq import nlargest\n",
    "from rake_nltk import Rake\n",
    "import numpy as np\n",
    "\n",
    "r = Rake()\n",
    "\n",
    "# Note: Can use a website or directory with the text file in place of this line:\n",
    "#txt = \"While scanning the water for these hydrodynamic signals at a swimming speed in the order of meters per second, the seal keeps its long and flexible whiskers in an abducted position, largely perpendicular to the swimming direction. Remarkably, the whiskers of harbor seals possess a specialized undulated surface structure, the function of which was, up to now, unknown. Here, we show that this structure effectively changes the vortex street behind the whiskers and reduces the vibrations that would otherwise be induced by the shedding of vortices from the whiskers (vortex-induced vibrations). Using force measurements, flow measurements and numerical simulations, we find that the dynamic forces on harbor seal whiskers are, by at least an order of magnitude, lower than those on sea lion (Zalophus californianus) whiskers, which do not share the undulated structure. The results are discussed in the light of pinniped sensory biology and potential biomimetic applications.\"\n",
    "txt = \"This study shows that although annual fluctuations occur in the main prey types of Skomer Puffins, food availability does not appear to limit breeding success. Most birds found food close to the colony, showing peaks of activity early in the day and again in late afternoon; and two out of four experimental pairs were able to rear 'twins', though the growth-rates of these were less than for single chicks. Some interesting observations are given on the feeding of the chick and on kleptoparasitism of adults by Jackdaws and gulls.\"\n",
    "r.extract_keywords_from_text(txt)\n",
    "\n",
    "#r.get_ranked_phrases()[0:10]\n",
    "r.get_ranked_phrases()"
   ]
  },
  {
   "cell_type": "code",
   "execution_count": 2,
   "id": "bdcf2515",
   "metadata": {
    "scrolled": true
   },
   "outputs": [
    {
     "data": {
      "text/plain": [
       "[(16.0, 'although annual fluctuations occur'),\n",
       " (15.0, 'birds found food close'),\n",
       " (9.0, \"twins ', though\"),\n",
       " (9.0, 'main prey types'),\n",
       " (9.0, 'limit breeding success'),\n",
       " (9.0, 'four experimental pairs'),\n",
       " (5.0, 'food availability'),\n",
       " (4.0, 'study shows'),\n",
       " (4.0, 'skomer puffins'),\n",
       " (4.0, 'single chicks'),\n",
       " (4.0, 'showing peaks'),\n",
       " (4.0, 'late afternoon'),\n",
       " (4.0, 'interesting observations'),\n",
       " (4.0, 'activity early'),\n",
       " (1.0, 'two'),\n",
       " (1.0, 'rear'),\n",
       " (1.0, 'rates'),\n",
       " (1.0, 'less'),\n",
       " (1.0, 'kleptoparasitism'),\n",
       " (1.0, 'jackdaws'),\n",
       " (1.0, 'gulls'),\n",
       " (1.0, 'growth'),\n",
       " (1.0, 'given'),\n",
       " (1.0, 'feeding'),\n",
       " (1.0, 'day'),\n",
       " (1.0, 'colony'),\n",
       " (1.0, 'chick'),\n",
       " (1.0, 'appear'),\n",
       " (1.0, 'adults'),\n",
       " (1.0, 'able')]"
      ]
     },
     "execution_count": 2,
     "metadata": {},
     "output_type": "execute_result"
    }
   ],
   "source": [
    "r.get_ranked_phrases_with_scores()"
   ]
  },
  {
   "cell_type": "code",
   "execution_count": 3,
   "id": "25ae00c1",
   "metadata": {},
   "outputs": [],
   "source": [
    "# Text summarization method 1"
   ]
  },
  {
   "cell_type": "code",
   "execution_count": 4,
   "id": "705e4557",
   "metadata": {},
   "outputs": [],
   "source": [
    "if txt.count(\". \") > 150:\n",
    "    length = int(round(txt.count(\". \")/10, 0))\n",
    "else:\n",
    "    length = 1"
   ]
  },
  {
   "cell_type": "code",
   "execution_count": 5,
   "id": "f36aa880",
   "metadata": {},
   "outputs": [],
   "source": [
    "# Remove punctuation and stopwords:\n",
    "rmvp = [char for char in txt if char not in string.punctuation]\n",
    "rmvp = ''.join(rmvp)\n",
    "new_text =[word for word in rmvp.split() if word.lower() not in nltk.corpus.stopwords.words('english')]"
   ]
  },
  {
   "cell_type": "code",
   "execution_count": 6,
   "id": "1ca669a0",
   "metadata": {},
   "outputs": [],
   "source": [
    "word_frequency = {}\n",
    "\n",
    "for word in new_text:\n",
    "    if word not in word_frequency:\n",
    "        word_frequency[word] = 1\n",
    "    else:\n",
    "        word_frequency[word] = word_frequency[word] + 1"
   ]
  },
  {
   "cell_type": "code",
   "execution_count": 7,
   "id": "e7027fca",
   "metadata": {},
   "outputs": [],
   "source": [
    "maxfreq = max(word_frequency.values())\n",
    "for word in word_frequency.keys():\n",
    "    word_frequency[word] = (word_frequency[word]/maxfreq)"
   ]
  },
  {
   "cell_type": "code",
   "execution_count": 8,
   "id": "c1b7ff6c",
   "metadata": {
    "scrolled": false
   },
   "outputs": [],
   "source": [
    "slist = nltk.sent_tokenize(txt)\n",
    "sscore = {}\n",
    "for sent in slist:\n",
    "    for word in nltk.word_tokenize(sent.lower()):\n",
    "        if word in word_frequency.keys():\n",
    "            if sent not in sscore.keys():\n",
    "                sscore[sent] = word_frequency[word]\n",
    "            else:\n",
    "                sscore[sent] = sscore[sent] + word_frequency[word]"
   ]
  },
  {
   "cell_type": "code",
   "execution_count": 9,
   "id": "3807c1a8",
   "metadata": {},
   "outputs": [
    {
     "name": "stdout",
     "output_type": "stream",
     "text": [
      "Most birds found food close to the colony, showing peaks of activity early in the day and again in late afternoon; and two out of four experimental pairs were able to rear 'twins', though the growth-rates of these were less than for single chicks. ['although annual fluctuations occur', 'birds found food close', \"twins ', though\", 'main prey types', 'limit breeding success', 'four experimental pairs', 'food availability', 'study shows', 'skomer puffins', 'single chicks', 'showing peaks', 'late afternoon', 'interesting observations', 'activity early', 'two', 'rear', 'rates', 'less', 'kleptoparasitism', 'jackdaws', 'gulls', 'growth', 'given', 'feeding', 'day', 'colony', 'chick', 'appear', 'adults', 'able']\n"
     ]
    }
   ],
   "source": [
    "summary = nlargest(length, sscore, key = sscore.get)\n",
    "summ = ' '.join(summary)\n",
    "print(summ, r.get_ranked_phrases())"
   ]
  },
  {
   "cell_type": "markdown",
   "id": "bb99e66f",
   "metadata": {},
   "source": [
    "Text Summarization that incorporates what Rake does."
   ]
  },
  {
   "cell_type": "code",
   "execution_count": 10,
   "id": "020e7cd5",
   "metadata": {},
   "outputs": [],
   "source": [
    "from nltk.corpus import stopwords\n",
    "from nltk.cluster.util import cosine_distance\n",
    "import numpy as np\n",
    "import networkx as nx"
   ]
  },
  {
   "cell_type": "code",
   "execution_count": 11,
   "id": "069b6309",
   "metadata": {},
   "outputs": [],
   "source": [
    "def read_article(file_name):\n",
    "    file = open(file_name, \"r\")\n",
    "    filedata = file.readlines()\n",
    "    article = filedata[0].split(\". \")\n",
    "    sentences = [\"This study shows that although annual fluctuations occur in the main prey types of Skomer Puffins, food availability does not appear to limit breeding success. Most birds found food close to the colony, showing peaks of activity early in the day and again in late afternoon; and two out of four experimental pairs were able to rear 'twins', though the growth-rates of these were less than for single chicks. Some interesting observations are given on the feeding of the chick and on kleptoparasitism of adults by Jackdaws and gulls.\"]\n",
    "    #sentences = [\"While scanning the water for these hydrodynamic signals at a swimming speed in the order of meters per second, the seal keeps its long and flexible whiskers in an abducted position, largely perpendicular to the swimming direction. Remarkably, the whiskers of harbor seals possess a specialized undulated surface structure, the function of which was, up to now, unknown. Here, we show that this structure effectively changes the vortex street behind the whiskers and reduces the vibrations that would otherwise be induced by the shedding of vortices from the whiskers (vortex-induced vibrations). Using force measurements, flow measurements and numerical simulations, we find that the dynamic forces on harbor seal whiskers are, by at least an order of magnitude, lower than those on sea lion (Zalophus californianus) whiskers, which do not share the undulated structure. The results are discussed in the light of pinniped sensory biology and potential biomimetic applications.\"]\n",
    "    \n",
    "    for sentence in article:\n",
    "        print(sentence)\n",
    "        sentences.append(sentence.replace(\"[^a-zA-Z]\", \" \").split(\" \"))\n",
    "    sentences.pop() \n",
    "    \n",
    "    return sentences"
   ]
  },
  {
   "cell_type": "code",
   "execution_count": 12,
   "id": "409e9251",
   "metadata": {},
   "outputs": [],
   "source": [
    "def sentence_similarity(sent1, sent2, stopwords=None):\n",
    "    if stopwords is None:\n",
    "        stopwords = []\n",
    " \n",
    "    sent1 = [w.lower() for w in sent1]\n",
    "    sent2 = [w.lower() for w in sent2]\n",
    " \n",
    "    all_words = list(set(sent1 + sent2))\n",
    " \n",
    "    vector1 = [0] * len(all_words)\n",
    "    vector2 = [0] * len(all_words)\n",
    " \n",
    "    # build the vector for the first sentence\n",
    "    for w in sent1:\n",
    "        if w in stopwords:\n",
    "            continue\n",
    "        vector1[all_words.index(w)] += 1\n",
    " \n",
    "    # build the vector for the second sentence\n",
    "    for w in sent2:\n",
    "        if w in stopwords:\n",
    "            continue\n",
    "        vector2[all_words.index(w)] += 1\n",
    " \n",
    "    return 1 - cosine_distance(vector1, vector2)"
   ]
  },
  {
   "cell_type": "code",
   "execution_count": 13,
   "id": "38f31279",
   "metadata": {},
   "outputs": [],
   "source": [
    "def build_similarity_matrix(sentences, stop_words):\n",
    "    # Create an empty similarity matrix\n",
    "    similarity_matrix = np.zeros((len(sentences), len(sentences)))\n",
    " \n",
    "    for idx1 in range(len(sentences)):\n",
    "        for idx2 in range(len(sentences)):\n",
    "            if idx1 == idx2: #ignore if both are same sentences\n",
    "                continue \n",
    "            similarity_matrix[idx1][idx2] = sentence_similarity(sentences[idx1], sentences[idx2], stop_words)\n",
    "\n",
    "    return similarity_matrix"
   ]
  },
  {
   "cell_type": "code",
   "execution_count": 14,
   "id": "99ef7060",
   "metadata": {},
   "outputs": [
    {
     "name": "stdout",
     "output_type": "stream",
     "text": [
      "This study shows that although annual fluctuations occur in the main prey types of Skomer Puffins, food availability does not appear to limit breeding success\n",
      "Most birds found food close to the colony, showing peaks of activity early in the day and again in late afternoon; and two out of four experimental pairs were able to rear 'twins', though the growth-rates of these were less than for single chicks\n",
      "Some interesting observations are given on the feeding of the chick and on kleptoparasitism of adults by Jackdaws and gulls.\n",
      "Summarize Text: \n",
      " This study shows that although annual fluctuations occur in the main prey types of Skomer Puffins, food availability does not appear to limit breeding success. Most birds found food close to the colony, showing peaks of activity early in the day and again in late afternoon; and two out of four experimental pairs were able to rear 'twins', though the growth-rates of these were less than for single chicks\n"
     ]
    }
   ],
   "source": [
    "def generate_summary(file_name, top_n=5):\n",
    "    stop_words = stopwords.words('english')\n",
    "    summarize_text = []\n",
    "\n",
    "    # Step 1 - Read text anc split it\n",
    "    sentences =  read_article(file_name)\n",
    "\n",
    "    # Step 2 - Generate Similary Martix across sentences\n",
    "    sentence_similarity_martix = build_similarity_matrix(sentences, stop_words)\n",
    "\n",
    "    # Step 3 - Rank sentences in similarity martix\n",
    "    sentence_similarity_graph = nx.from_numpy_array(sentence_similarity_martix)\n",
    "    scores = nx.pagerank(sentence_similarity_graph)\n",
    "\n",
    "    # Step 4 - Sort the rank and pick top sentences\n",
    "    ranked_sentence = sorted(((scores[i],s) for i,s in enumerate(sentences)), reverse=True)    \n",
    "    #print(\"Indexes of top ranked_sentence order are \", ranked_sentence)    \n",
    "\n",
    "    for i in range(top_n):\n",
    "        summarize_text.append(\" \".join(ranked_sentence[i][1]))\n",
    "\n",
    "    # Step 5 - Offcourse, output the summarize texr\n",
    "    print(\"Summarize Text: \\n\", \". \".join(summarize_text))\n",
    "\n",
    "# let's begin\n",
    "generate_summary(\"Food_and_Feeding_Ecology_of_Puffins.txt\", 2)"
   ]
  },
  {
   "cell_type": "code",
   "execution_count": 15,
   "id": "92645e97",
   "metadata": {},
   "outputs": [
    {
     "name": "stdout",
     "output_type": "stream",
     "text": [
      "This study shows that although annual fluctuations occur in the main prey types of Skomer Puffins, food availability does not appear to limit breeding success\n",
      "Most birds found food close to the colony, showing peaks of activity early in the day and again in late afternoon; and two out of four experimental pairs were able to rear 'twins', though the growth-rates of these were less than for single chicks\n",
      "Some interesting observations are given on the feeding of the chick and on kleptoparasitism of adults by Jackdaws and gulls.\n",
      "Summarize Text: \n",
      " This study shows that although annual fluctuations occur in the main prey types of Skomer Puffins, food availability does not appear to limit breeding success. Most birds found food close to the colony, showing peaks of activity early in the day and again in late afternoon; and two out of four experimental pairs were able to rear 'twins', though the growth-rates of these were less than for single chicks\n",
      "Most birds found food close to the colony, showing peaks of activity early in the day and again in late afternoon; and two out of four experimental pairs were able to rear 'twins', though the growth-rates of these were less than for single chicks. None\n"
     ]
    }
   ],
   "source": [
    "print(summ, generate_summary( \"Food_and_Feeding_Ecology_of_Puffins.txt\", 2))"
   ]
  },
  {
   "cell_type": "code",
   "execution_count": null,
   "id": "0bdf5c94",
   "metadata": {},
   "outputs": [],
   "source": [
    "# try on other abstracts (petalai.org)\n",
    "# See above for this."
   ]
  }
 ],
 "metadata": {
  "kernelspec": {
   "display_name": "Python 3 (ipykernel)",
   "language": "python",
   "name": "python3"
  },
  "language_info": {
   "codemirror_mode": {
    "name": "ipython",
    "version": 3
   },
   "file_extension": ".py",
   "mimetype": "text/x-python",
   "name": "python",
   "nbconvert_exporter": "python",
   "pygments_lexer": "ipython3",
   "version": "3.9.1"
  }
 },
 "nbformat": 4,
 "nbformat_minor": 5
}
