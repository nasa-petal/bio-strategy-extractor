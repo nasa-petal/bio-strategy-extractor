{
 "cells": [
  {
   "cell_type": "code",
   "execution_count": 1,
   "metadata": {},
   "outputs": [
    {
     "name": "stdout",
     "output_type": "stream",
     "text": [
      "0.5185571  The results are discussed in the light of pinniped sensory biology and potential biomimetic applications\n",
      "0.62858874  Remarkably, the whiskers of harbor seals possess a specialized undulated surface structure, the function of which was, up to now, unknown\n",
      "0.6310736 While scanning the water for these hydrodynamic signals at a swimming speed in the order of meters per second, the seal keeps its long and flexible whiskers in an abducted position, largely perpendicular to the swimming direction\n",
      "0.66636425  Using force measurements, flow measurements and numerical simulations, we find that the dynamic forces on harbor seal whiskers are, by at least an order of magnitude, lower than those on sea lion (Zalophus californianus) whiskers, which do not share the undulated structure\n",
      "0.7085656  Here, we show that this structure effectively changes the vortex street behind the whiskers and reduces the vibrations that would otherwise be induced by the shedding of vortices from the whiskers (vortex-induced vibrations)\n"
     ]
    }
   ],
   "source": [
    "import gensim.downloader as api\n",
    "import numpy as np\n",
    "\n",
    "class W2VTextSimilarity:\n",
    "    def __init__(self, text, target, w2v_model):\n",
    "        self.txt = text\n",
    "        self.target = target\n",
    "        self.sentences = txt.split('.')\n",
    "        self.target_words = target.split()\n",
    "        self.model = w2v_model\n",
    "    \n",
    "    def compute_similarity(self):\n",
    "        avg_target_vec = None\n",
    "        target_sentence_mat = []\n",
    "        for word in self.target_words:\n",
    "            if word in model.key_to_index:\n",
    "                target_sentence_mat.append(model[word])\n",
    "        target_sentence_mat = np.array(target_sentence_mat)\n",
    "        avg_target_vec = np.mean(target_sentence_mat, axis=0)\n",
    "\n",
    "        scores_dict = {}\n",
    "        scores = []\n",
    "        for sentence in self.sentences:\n",
    "            words = sentence.split()\n",
    "            if words:\n",
    "                sentence_mat = []\n",
    "                for word in words:\n",
    "                    if word in model.key_to_index:\n",
    "                        sentence_mat.append(model[word])\n",
    "                sentence_mat = np.array(sentence_mat)\n",
    "                # print(sentence_mat.shape)\n",
    "                avg_vec = np.mean(sentence_mat,axis=0) \n",
    "                cos_sim = np.dot(avg_vec, avg_target_vec)/(np.linalg.norm(avg_vec)*np.linalg.norm(avg_target_vec))\n",
    "                scores_dict[cos_sim] = sentence\n",
    "                scores.append(cos_sim)\n",
    "        return scores_dict, scores\n",
    "\n",
    "txt = \"While scanning the water for these hydrodynamic signals at a swimming speed in the order of meters per second, the seal keeps its long and flexible whiskers in an abducted position, largely perpendicular to the swimming direction. Remarkably, the whiskers of harbor seals possess a specialized undulated surface structure, the function of which was, up to now, unknown. Here, we show that this structure effectively changes the vortex street behind the whiskers and reduces the vibrations that would otherwise be induced by the shedding of vortices from the whiskers (vortex-induced vibrations). Using force measurements, flow measurements and numerical simulations, we find that the dynamic forces on harbor seal whiskers are, by at least an order of magnitude, lower than those on sea lion (Zalophus californianus) whiskers, which do not share the undulated structure. The results are discussed in the light of pinniped sensory biology and potential biomimetic applications.\"\n",
    "target = \"A small diameter fiber with an undulated surface structure reduces vibrations caused by drag forces\" \n",
    "model = api.load(\"word2vec-google-news-300\")\n",
    "\n",
    "sim = W2VTextSimilarity(txt, target, model)\n",
    "mapping, scores = sim.compute_similarity()\n",
    "scores.sort()\n",
    "for score in scores:\n",
    "    print(str(score) + \" \" + mapping[score])"
   ]
  }
 ],
 "metadata": {
  "interpreter": {
   "hash": "92d548779f81c1a0d4f581d5b9bd270e2c1b74f140d6213b87e1406cdc999b34"
  },
  "kernelspec": {
   "display_name": "Python 3.9.10 ('nasa-petal')",
   "language": "python",
   "name": "python3"
  },
  "language_info": {
   "codemirror_mode": {
    "name": "ipython",
    "version": 3
   },
   "file_extension": ".py",
   "mimetype": "text/x-python",
   "name": "python",
   "nbconvert_exporter": "python",
   "pygments_lexer": "ipython3",
   "version": "3.9.10"
  },
  "orig_nbformat": 4
 },
 "nbformat": 4,
 "nbformat_minor": 2
}
