{
 "cells": [
  {
   "cell_type": "markdown",
   "id": "32d4421e",
   "metadata": {},
   "source": [
    "The steps to summarize the biological strategies in research paper (extraction-based approach): \n",
    "$\\newline$ Using: https://becominghuman.ai/text-summarization-in-5-steps-using-nltk-65b21e352b65\n",
    "$\\newline$ 1. Import libraries needed.\n",
    "$\\newline$ 2. The string library will help deal with string operations and heapq provides a quick function for finding the n largest number in a set. The text variable will store the actual text to be summarized. In this example, it’s left blank for brevity.\n",
    "$\\newline$ 3. The next lines introduce the variable length, which defines the length of the summary in number of sentences provided. If the length of the text isn’t know ahead of time, choosing a dynamic approach provides a lot of flexibility. To count the number of sentences in the text, the number of periods followed by a space is counted.\n",
    "$\\newline$ 4. The text is then processed to focus on the key symbols. The first two lines remove any punctuation in the text. The next line removes any stop words, which are short words that don’t provide much meaning to a sentence, such as “the” or “then.”\n",
    "$\\newline$ 5. Next, a dictionary is created. For every word in the text, the word is stored in the dictionary as a key value and its number of occurrences as its value. This step functionary provides a list of words in the text and the number of times they appear.\n",
    "$\\newline$ 6. To make the number of occurrences unitless, all occurrences are divided by the maximum number of occurrences. This gives all the words a score between 0 and 1, which ranks the importance of the word within the text. Words which appear more frequently are given a higher score and are presumed more important.\n",
    "$\\newline$ 7. The first line simply creates a list of all sentences in the text.\n",
    "The next step is to create an empty dictionary which will assign each sentence of score. This is accomplished by going through each sentence word by word. For every word in the sentence, the word’s previously defined importance is referenced and then added to the sentence’s score.\n",
    "The more important words a sentence has, the higher the score that’s assigned to that sentence.\n",
    "Note that this necessarily creates a bias for longer sentences, which isn’t inherently a bad thing. In fact, returning longer sentences usually provides a little more context than shorter sentence, making the overall summary more comprehensible."
   ]
  },
  {
   "cell_type": "code",
   "execution_count": 1,
   "id": "7f2f815d",
   "metadata": {},
   "outputs": [],
   "source": [
    "import nltk\n",
    "import string\n",
    "from heapq import nlargest"
   ]
  },
  {
   "cell_type": "code",
   "execution_count": 2,
   "id": "ced8c438",
   "metadata": {},
   "outputs": [],
   "source": [
    "text = \"While scanning the water for these hydrodynamic signals at a swimming speed in the order of meters per second, the seal keeps its long and flexible whiskers in an abducted position, largely perpendicular to the swimming direction. Remarkably, the whiskers of harbor seals possess a specialized undulated surface structure, the function of which was, up to now, unknown. Here, we show that this structure effectively changes the vortex street behind the whiskers and reduces the vibrations that would otherwise be induced by the shedding of vortices from the whiskers (vortex-induced vibrations). Using force measurements, flow measurements and numerical simulations, we find that the dynamic forces on harbor seal whiskers are, by at least an order of magnitude, lower than those on sea lion (Zalophus californianus) whiskers, which do not share the undulated structure. The results are discussed in the light of pinniped sensory biology and potential biomimetic applications.\"\n",
    "if text.count(\". \") > 150:\n",
    "    length = int(round(text.count(\". \")/10, 0))\n",
    "# Otherwise return five sentences\n",
    "else:\n",
    "    length = 1"
   ]
  },
  {
   "cell_type": "code",
   "execution_count": 4,
   "id": "b54634cb",
   "metadata": {
    "scrolled": true
   },
   "outputs": [],
   "source": [
    "# Remove punctuation and stopwords:\n",
    "rmvp = [char for char in text if char not in string.punctuation]\n",
    "rmvp = ''.join(nopunc)\n",
    "new_text =[word for word in rmvp.split() if word.lower() not in nltk.corpus.stopwords.words('english')]"
   ]
  },
  {
   "cell_type": "code",
   "execution_count": 5,
   "id": "ce1e098a",
   "metadata": {},
   "outputs": [],
   "source": [
    "word_frequency = {}\n",
    "\n",
    "for word in new_text:\n",
    "    if word not in word_frequency:\n",
    "        word_frequency[word] = 1\n",
    "    else:\n",
    "        word_frequency[word] = word_frequency[word] + 1"
   ]
  },
  {
   "cell_type": "code",
   "execution_count": 7,
   "id": "ca03c764",
   "metadata": {},
   "outputs": [],
   "source": [
    "maxfreq = max(word_frequency.values())\n",
    "for word in word_frequency.keys():\n",
    "    word_frequency[word] = (word_frequency[word]/maxfreq)"
   ]
  },
  {
   "cell_type": "code",
   "execution_count": 10,
   "id": "1fc3b787",
   "metadata": {},
   "outputs": [],
   "source": [
    "# Create a list of the sentences in the text\n",
    "slist = nltk.sent_tokenize(text)\n",
    "# Create an empty dictionary to store sentence scores\n",
    "sscore = {}\n",
    "for sent in slist:\n",
    "    for word in nltk.word_tokenize(sent.lower()):\n",
    "        if word in word_frequency.keys():\n",
    "            if sent not in sscore.keys():\n",
    "                sscore[sent] = word_frequency[word]\n",
    "            else:\n",
    "                sscore[sent] = sscore[sent] + word_frequency[word]"
   ]
  },
  {
   "cell_type": "code",
   "execution_count": 11,
   "id": "6966ee7a",
   "metadata": {},
   "outputs": [
    {
     "name": "stdout",
     "output_type": "stream",
     "text": [
      "Using force measurements, flow measurements and numerical simulations, we find that the dynamic forces on harbor seal whiskers are, by at least an order of magnitude, lower than those on sea lion (Zalophus californianus) whiskers, which do not share the undulated structure.\n"
     ]
    }
   ],
   "source": [
    "summary = nlargest(length, sscore, key = sscore.get)\n",
    "summ = ' '.join(summary)\n",
    "print(summ)"
   ]
  },
  {
   "cell_type": "code",
   "execution_count": 21,
   "id": "89f929bc",
   "metadata": {},
   "outputs": [],
   "source": [
    "######### TRYING ANOTHER METHOD #############\n",
    "#https://towardsdatascience.com/understand-text-summarization-and-create-your-own-summarizer-in-python-b26a9f09fc70"
   ]
  },
  {
   "cell_type": "code",
   "execution_count": 16,
   "id": "029f335f",
   "metadata": {},
   "outputs": [],
   "source": [
    "from nltk.corpus import stopwords\n",
    "from nltk.cluster.util import cosine_distance\n",
    "import numpy as np\n",
    "import networkx as nx"
   ]
  },
  {
   "cell_type": "code",
   "execution_count": 17,
   "id": "fc8a91a1",
   "metadata": {},
   "outputs": [],
   "source": [
    "def read_article(file_name):\n",
    "    file = open(file_name, \"r\")\n",
    "    filedata = file.readlines()\n",
    "    article = filedata[0].split(\". \")\n",
    "    sentences = [\"While scanning the water for these hydrodynamic signals at a swimming speed in the order of meters per second, the seal keeps its long and flexible whiskers in an abducted position, largely perpendicular to the swimming direction. Remarkably, the whiskers of harbor seals possess a specialized undulated surface structure, the function of which was, up to now, unknown. Here, we show that this structure effectively changes the vortex street behind the whiskers and reduces the vibrations that would otherwise be induced by the shedding of vortices from the whiskers (vortex-induced vibrations). Using force measurements, flow measurements and numerical simulations, we find that the dynamic forces on harbor seal whiskers are, by at least an order of magnitude, lower than those on sea lion (Zalophus californianus) whiskers, which do not share the undulated structure. The results are discussed in the light of pinniped sensory biology and potential biomimetic applications.\"]\n",
    "\n",
    "    for sentence in article:\n",
    "        print(sentence)\n",
    "        sentences.append(sentence.replace(\"[^a-zA-Z]\", \" \").split(\" \"))\n",
    "    sentences.pop() \n",
    "    \n",
    "    return sentences"
   ]
  },
  {
   "cell_type": "code",
   "execution_count": 18,
   "id": "e2900991",
   "metadata": {},
   "outputs": [],
   "source": [
    "def sentence_similarity(sent1, sent2, stopwords=None):\n",
    "    if stopwords is None:\n",
    "        stopwords = []\n",
    " \n",
    "    sent1 = [w.lower() for w in sent1]\n",
    "    sent2 = [w.lower() for w in sent2]\n",
    " \n",
    "    all_words = list(set(sent1 + sent2))\n",
    " \n",
    "    vector1 = [0] * len(all_words)\n",
    "    vector2 = [0] * len(all_words)\n",
    " \n",
    "    # build the vector for the first sentence\n",
    "    for w in sent1:\n",
    "        if w in stopwords:\n",
    "            continue\n",
    "        vector1[all_words.index(w)] += 1\n",
    " \n",
    "    # build the vector for the second sentence\n",
    "    for w in sent2:\n",
    "        if w in stopwords:\n",
    "            continue\n",
    "        vector2[all_words.index(w)] += 1\n",
    " \n",
    "    return 1 - cosine_distance(vector1, vector2)"
   ]
  },
  {
   "cell_type": "code",
   "execution_count": 19,
   "id": "9f4291b9",
   "metadata": {},
   "outputs": [],
   "source": [
    "def build_similarity_matrix(sentences, stop_words):\n",
    "    # Create an empty similarity matrix\n",
    "    similarity_matrix = np.zeros((len(sentences), len(sentences)))\n",
    " \n",
    "    for idx1 in range(len(sentences)):\n",
    "        for idx2 in range(len(sentences)):\n",
    "            if idx1 == idx2: #ignore if both are same sentences\n",
    "                continue \n",
    "            similarity_matrix[idx1][idx2] = sentence_similarity(sentences[idx1], sentences[idx2], stop_words)\n",
    "\n",
    "    return similarity_matrix"
   ]
  },
  {
   "cell_type": "code",
   "execution_count": 20,
   "id": "46de79b4",
   "metadata": {},
   "outputs": [
    {
     "name": "stdout",
     "output_type": "stream",
     "text": [
      "While scanning the water for these hydrodynamic signals at a swimming speed in the order of meters per second, the seal keeps its long and flexible whiskers in an abducted position, largely perpendicular to the swimming direction\n",
      "Remarkably, the whiskers of harbor seals possess a specialized undulated surface structure, the function of which was, up to now, unknown\n",
      "Here, we show that this structure effectively changes the vortex street behind the whiskers and reduces the vibrations that would otherwise be induced by the shedding of vortices from the whiskers (vortex-induced vibrations)\n",
      "Using force measurements, flow measurements and numerical simulations, we find that the dynamic forces on harbor seal whiskers are, by at least an order of magnitude, lower than those on sea lion (Zalophus californianus) whiskers, which do not share the undulated structure\n",
      "The results are discussed in the light of pinniped sensory biology and potential biomimetic applications.\n",
      "Indexes of top ranked_sentence order are  [(0.2862803447186184, ['Using', 'force', 'measurements,', 'flow', 'measurements', 'and', 'numerical', 'simulations,', 'we', 'find', 'that', 'the', 'dynamic', 'forces', 'on', 'harbor', 'seal', 'whiskers', 'are,', 'by', 'at', 'least', 'an', 'order', 'of', 'magnitude,', 'lower', 'than', 'those', 'on', 'sea', 'lion', '(Zalophus', 'californianus)', 'whiskers,', 'which', 'do', 'not', 'share', 'the', 'undulated', 'structure']), (0.2402617699431213, ['Remarkably,', 'the', 'whiskers', 'of', 'harbor', 'seals', 'possess', 'a', 'specialized', 'undulated', 'surface', 'structure,', 'the', 'function', 'of', 'which', 'was,', 'up', 'to', 'now,', 'unknown']), (0.2400356301203021, ['Here,', 'we', 'show', 'that', 'this', 'structure', 'effectively', 'changes', 'the', 'vortex', 'street', 'behind', 'the', 'whiskers', 'and', 'reduces', 'the', 'vibrations', 'that', 'would', 'otherwise', 'be', 'induced', 'by', 'the', 'shedding', 'of', 'vortices', 'from', 'the', 'whiskers', '(vortex-induced', 'vibrations)']), (0.19727767680923924, ['While', 'scanning', 'the', 'water', 'for', 'these', 'hydrodynamic', 'signals', 'at', 'a', 'swimming', 'speed', 'in', 'the', 'order', 'of', 'meters', 'per', 'second,', 'the', 'seal', 'keeps', 'its', 'long', 'and', 'flexible', 'whiskers', 'in', 'an', 'abducted', 'position,', 'largely', 'perpendicular', 'to', 'the', 'swimming', 'direction']), (0.03614457840871883, 'While scanning the water for these hydrodynamic signals at a swimming speed in the order of meters per second, the seal keeps its long and flexible whiskers in an abducted position, largely perpendicular to the swimming direction. Remarkably, the whiskers of harbor seals possess a specialized undulated surface structure, the function of which was, up to now, unknown. Here, we show that this structure effectively changes the vortex street behind the whiskers and reduces the vibrations that would otherwise be induced by the shedding of vortices from the whiskers (vortex-induced vibrations). Using force measurements, flow measurements and numerical simulations, we find that the dynamic forces on harbor seal whiskers are, by at least an order of magnitude, lower than those on sea lion (Zalophus californianus) whiskers, which do not share the undulated structure. The results are discussed in the light of pinniped sensory biology and potential biomimetic applications.')]\n",
      "Summarize Text: \n",
      " Using force measurements, flow measurements and numerical simulations, we find that the dynamic forces on harbor seal whiskers are, by at least an order of magnitude, lower than those on sea lion (Zalophus californianus) whiskers, which do not share the undulated structure. Remarkably, the whiskers of harbor seals possess a specialized undulated surface structure, the function of which was, up to now, unknown\n"
     ]
    }
   ],
   "source": [
    "def generate_summary(file_name, top_n=5):\n",
    "    stop_words = stopwords.words('english')\n",
    "    summarize_text = []\n",
    "\n",
    "    # Step 1 - Read text anc split it\n",
    "    sentences =  read_article(file_name)\n",
    "\n",
    "    # Step 2 - Generate Similary Martix across sentences\n",
    "    sentence_similarity_martix = build_similarity_matrix(sentences, stop_words)\n",
    "\n",
    "    # Step 3 - Rank sentences in similarity martix\n",
    "    sentence_similarity_graph = nx.from_numpy_array(sentence_similarity_martix)\n",
    "    scores = nx.pagerank(sentence_similarity_graph)\n",
    "\n",
    "    # Step 4 - Sort the rank and pick top sentences\n",
    "    ranked_sentence = sorted(((scores[i],s) for i,s in enumerate(sentences)), reverse=True)    \n",
    "    print(\"Indexes of top ranked_sentence order are \", ranked_sentence)    \n",
    "\n",
    "    for i in range(top_n):\n",
    "        summarize_text.append(\" \".join(ranked_sentence[i][1]))\n",
    "\n",
    "    # Step 5 - Offcourse, output the summarize texr\n",
    "    print(\"Summarize Text: \\n\", \". \".join(summarize_text))\n",
    "\n",
    "# let's begin\n",
    "generate_summary( \"Abstract_textextraction.txt\", 2)"
   ]
  },
  {
   "cell_type": "code",
   "execution_count": null,
   "id": "a28b7127",
   "metadata": {},
   "outputs": [],
   "source": []
  }
 ],
 "metadata": {
  "kernelspec": {
   "display_name": "Python 3 (ipykernel)",
   "language": "python",
   "name": "python3"
  },
  "language_info": {
   "codemirror_mode": {
    "name": "ipython",
    "version": 3
   },
   "file_extension": ".py",
   "mimetype": "text/x-python",
   "name": "python",
   "nbconvert_exporter": "python",
   "pygments_lexer": "ipython3",
   "version": "3.9.1"
  }
 },
 "nbformat": 4,
 "nbformat_minor": 5
}
