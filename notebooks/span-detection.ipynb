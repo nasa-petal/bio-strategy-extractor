{
 "cells": [
  {
   "cell_type": "code",
   "execution_count": 8,
   "metadata": {},
   "outputs": [
    {
     "name": "stderr",
     "output_type": "stream",
     "text": [
      "Asking to truncate to max_length but no maximum length is provided and the model has no predefined maximum length. Default to no truncation.\n"
     ]
    },
    {
     "data": {
      "text/plain": [
       "[{'entity_group': 'not function',\n",
       "  'score': 0.99696773,\n",
       "  'word': 'to our knowledge, an interaction between',\n",
       "  'start': 0,\n",
       "  'end': 40},\n",
       " {'entity_group': 'function',\n",
       "  'score': 0.5670154,\n",
       "  'word': 'epigenetic processes',\n",
       "  'start': 41,\n",
       "  'end': 61},\n",
       " {'entity_group': 'not function',\n",
       "  'score': 0.57917,\n",
       "  'word': 'such',\n",
       "  'start': 62,\n",
       "  'end': 66},\n",
       " {'entity_group': 'function',\n",
       "  'score': 0.7583937,\n",
       "  'word': 'as dna methylation',\n",
       "  'start': 67,\n",
       "  'end': 85},\n",
       " {'entity_group': 'not function',\n",
       "  'score': 0.7510601,\n",
       "  'word': 'and',\n",
       "  'start': 86,\n",
       "  'end': 89},\n",
       " {'entity_group': 'function',\n",
       "  'score': 0.7699222,\n",
       "  'word': 'the elaboration of hsps as the result of a heat stress',\n",
       "  'start': 90,\n",
       "  'end': 144},\n",
       " {'entity_group': 'not function',\n",
       "  'score': 0.9347235,\n",
       "  'word': '##or has not been studied in regards to the formation of ltm.',\n",
       "  'start': 144,\n",
       "  'end': 203}]"
      ]
     },
     "execution_count": 8,
     "metadata": {},
     "output_type": "execute_result"
    }
   ],
   "source": [
    "from transformers import AutoModel, pipeline\n",
    "\n",
    "model_checkpoint = \"../SciBERT-FOBIE/model\"\n",
    "token_classifier = pipeline(\n",
    "    \"token-classification\", model=model_checkpoint, aggregation_strategy=\"simple\"\n",
    ")\n",
    "token_classifier(\"To our knowledge, an interaction between epigenetic processes such as DNA methylation and the elaboration of HSPs as the result of a heat stressor has not been studied in regards to the formation of LTM.\")"
   ]
  }
 ],
 "metadata": {
  "interpreter": {
   "hash": "92d548779f81c1a0d4f581d5b9bd270e2c1b74f140d6213b87e1406cdc999b34"
  },
  "kernelspec": {
   "display_name": "Python 3.9.10 ('nasa-petal')",
   "language": "python",
   "name": "python3"
  },
  "language_info": {
   "codemirror_mode": {
    "name": "ipython",
    "version": 3
   },
   "file_extension": ".py",
   "mimetype": "text/x-python",
   "name": "python",
   "nbconvert_exporter": "python",
   "pygments_lexer": "ipython3",
   "version": "3.9.10"
  },
  "orig_nbformat": 4
 },
 "nbformat": 4,
 "nbformat_minor": 2
}
