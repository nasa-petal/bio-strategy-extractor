{
 "cells": [
  {
   "cell_type": "code",
   "execution_count": 8,
   "metadata": {},
   "outputs": [
    {
     "name": "stderr",
     "output_type": "stream",
     "text": [
      "Asking to truncate to max_length but no maximum length is provided and the model has no predefined maximum length. Default to no truncation.\n"
     ]
    },
    {
     "data": {
      "text/plain": [
       "[{'entity_group': 'not function',\n",
       "  'score': 0.98141813,\n",
       "  'word': 'to our knowledge, an',\n",
       "  'start': 0,\n",
       "  'end': 20},\n",
       " {'entity_group': 'function',\n",
       "  'score': 0.728264,\n",
       "  'word': 'interaction between epigenetic processes such as dna methylation and the elaboration of hsps as the result of',\n",
       "  'start': 21,\n",
       "  'end': 130},\n",
       " {'entity_group': 'not function',\n",
       "  'score': 0.50017023,\n",
       "  'word': 'a',\n",
       "  'start': 131,\n",
       "  'end': 132},\n",
       " {'entity_group': 'function',\n",
       "  'score': 0.62745017,\n",
       "  'word': 'heat stressor',\n",
       "  'start': 133,\n",
       "  'end': 146},\n",
       " {'entity_group': 'not function',\n",
       "  'score': 0.8736928,\n",
       "  'word': 'has not been studied in regards to the formation of ltm.',\n",
       "  'start': 147,\n",
       "  'end': 203}]"
      ]
     },
     "execution_count": 8,
     "metadata": {},
     "output_type": "execute_result"
    }
   ],
   "source": [
    "from transformers import AutoModel, pipeline\n",
    "\n",
    "model_checkpoint = \"../SciBERT-FOBIE/model\"\n",
    "token_classifier = pipeline(\n",
    "    \"token-classification\", model=model_checkpoint, aggregation_strategy=\"simple\"\n",
    ")\n",
    "token_classifier(\"To our knowledge, an interaction between epigenetic processes such as DNA methylation and the elaboration of HSPs as the result of a heat stressor has not been studied in regards to the formation of LTM.\")"
   ]
  }
 ],
 "metadata": {
  "interpreter": {
   "hash": "92d548779f81c1a0d4f581d5b9bd270e2c1b74f140d6213b87e1406cdc999b34"
  },
  "kernelspec": {
   "display_name": "Python 3.9.10 ('nasa-petal')",
   "language": "python",
   "name": "python3"
  },
  "language_info": {
   "codemirror_mode": {
    "name": "ipython",
    "version": 3
   },
   "file_extension": ".py",
   "mimetype": "text/x-python",
   "name": "python",
   "nbconvert_exporter": "python",
   "pygments_lexer": "ipython3",
   "version": "3.9.10"
  },
  "orig_nbformat": 4
 },
 "nbformat": 4,
 "nbformat_minor": 2
}
