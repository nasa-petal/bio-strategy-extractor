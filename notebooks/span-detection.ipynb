{
 "cells": [
  {
   "cell_type": "code",
   "execution_count": 4,
   "metadata": {},
   "outputs": [
    {
     "ename": "KeyError",
     "evalue": "'COMPLEX'",
     "output_type": "error",
     "traceback": [
      "\u001b[0;31m---------------------------------------------------------------------------\u001b[0m",
      "\u001b[0;31mKeyError\u001b[0m                                  Traceback (most recent call last)",
      "\u001b[1;32m/Users/rishubtamirisa/NASA/bio-strategy-extractor/notebooks/span-detection.ipynb Cell 1'\u001b[0m in \u001b[0;36m<cell line: 4>\u001b[0;34m()\u001b[0m\n\u001b[1;32m      <a href='vscode-notebook-cell:/Users/rishubtamirisa/NASA/bio-strategy-extractor/notebooks/span-detection.ipynb#ch0000000?line=0'>1</a>\u001b[0m \u001b[39mfrom\u001b[39;00m \u001b[39mtransformers\u001b[39;00m \u001b[39mimport\u001b[39;00m AutoModel, pipeline\n\u001b[1;32m      <a href='vscode-notebook-cell:/Users/rishubtamirisa/NASA/bio-strategy-extractor/notebooks/span-detection.ipynb#ch0000000?line=2'>3</a>\u001b[0m model_checkpoint \u001b[39m=\u001b[39m \u001b[39m\"\u001b[39m\u001b[39m../SciBERT-FOBIE/model\u001b[39m\u001b[39m\"\u001b[39m\n\u001b[0;32m----> <a href='vscode-notebook-cell:/Users/rishubtamirisa/NASA/bio-strategy-extractor/notebooks/span-detection.ipynb#ch0000000?line=3'>4</a>\u001b[0m token_classifier \u001b[39m=\u001b[39m pipeline(\n\u001b[1;32m      <a href='vscode-notebook-cell:/Users/rishubtamirisa/NASA/bio-strategy-extractor/notebooks/span-detection.ipynb#ch0000000?line=4'>5</a>\u001b[0m     \u001b[39m\"\u001b[39;49m\u001b[39mtoken-classification\u001b[39;49m\u001b[39m\"\u001b[39;49m, model\u001b[39m=\u001b[39;49mmodel_checkpoint, aggregation_strategy\u001b[39m=\u001b[39;49m\u001b[39m\"\u001b[39;49m\u001b[39mcomplex\u001b[39;49m\u001b[39m\"\u001b[39;49m\n\u001b[1;32m      <a href='vscode-notebook-cell:/Users/rishubtamirisa/NASA/bio-strategy-extractor/notebooks/span-detection.ipynb#ch0000000?line=5'>6</a>\u001b[0m )\n\u001b[1;32m      <a href='vscode-notebook-cell:/Users/rishubtamirisa/NASA/bio-strategy-extractor/notebooks/span-detection.ipynb#ch0000000?line=6'>7</a>\u001b[0m token_classifier(\u001b[39m\"\u001b[39m\u001b[39mThe harbor seal’s whiskers possess a specialized undulated surface structure that reduces vibrations as the whiskers move through water.\u001b[39m\u001b[39m\"\u001b[39m)\n",
      "File \u001b[0;32m~/miniforge3/envs/nasa-petal/lib/python3.9/site-packages/transformers/pipelines/__init__.py:664\u001b[0m, in \u001b[0;36mpipeline\u001b[0;34m(task, model, config, tokenizer, feature_extractor, framework, revision, use_fast, use_auth_token, model_kwargs, pipeline_class, **kwargs)\u001b[0m\n\u001b[1;32m    661\u001b[0m \u001b[39mif\u001b[39;00m feature_extractor \u001b[39mis\u001b[39;00m \u001b[39mnot\u001b[39;00m \u001b[39mNone\u001b[39;00m:\n\u001b[1;32m    662\u001b[0m     kwargs[\u001b[39m\"\u001b[39m\u001b[39mfeature_extractor\u001b[39m\u001b[39m\"\u001b[39m] \u001b[39m=\u001b[39m feature_extractor\n\u001b[0;32m--> 664\u001b[0m \u001b[39mreturn\u001b[39;00m pipeline_class(model\u001b[39m=\u001b[39;49mmodel, framework\u001b[39m=\u001b[39;49mframework, task\u001b[39m=\u001b[39;49mtask, \u001b[39m*\u001b[39;49m\u001b[39m*\u001b[39;49mkwargs)\n",
      "File \u001b[0;32m~/miniforge3/envs/nasa-petal/lib/python3.9/site-packages/transformers/pipelines/token_classification.py:102\u001b[0m, in \u001b[0;36mTokenClassificationPipeline.__init__\u001b[0;34m(self, args_parser, *args, **kwargs)\u001b[0m\n\u001b[1;32m    101\u001b[0m \u001b[39mdef\u001b[39;00m \u001b[39m__init__\u001b[39m(\u001b[39mself\u001b[39m, args_parser\u001b[39m=\u001b[39mTokenClassificationArgumentHandler(), \u001b[39m*\u001b[39margs, \u001b[39m*\u001b[39m\u001b[39m*\u001b[39mkwargs):\n\u001b[0;32m--> 102\u001b[0m     \u001b[39msuper\u001b[39;49m()\u001b[39m.\u001b[39;49m\u001b[39m__init__\u001b[39;49m(\u001b[39m*\u001b[39;49margs, \u001b[39m*\u001b[39;49m\u001b[39m*\u001b[39;49mkwargs)\n\u001b[1;32m    103\u001b[0m     \u001b[39mself\u001b[39m\u001b[39m.\u001b[39mcheck_model_type(\n\u001b[1;32m    104\u001b[0m         TF_MODEL_FOR_TOKEN_CLASSIFICATION_MAPPING\n\u001b[1;32m    105\u001b[0m         \u001b[39mif\u001b[39;00m \u001b[39mself\u001b[39m\u001b[39m.\u001b[39mframework \u001b[39m==\u001b[39m \u001b[39m\"\u001b[39m\u001b[39mtf\u001b[39m\u001b[39m\"\u001b[39m\n\u001b[1;32m    106\u001b[0m         \u001b[39melse\u001b[39;00m MODEL_FOR_TOKEN_CLASSIFICATION_MAPPING\n\u001b[1;32m    107\u001b[0m     )\n\u001b[1;32m    109\u001b[0m     \u001b[39mself\u001b[39m\u001b[39m.\u001b[39m_basic_tokenizer \u001b[39m=\u001b[39m BasicTokenizer(do_lower_case\u001b[39m=\u001b[39m\u001b[39mFalse\u001b[39;00m)\n",
      "File \u001b[0;32m~/miniforge3/envs/nasa-petal/lib/python3.9/site-packages/transformers/pipelines/base.py:767\u001b[0m, in \u001b[0;36mPipeline.__init__\u001b[0;34m(self, model, tokenizer, feature_extractor, modelcard, framework, task, args_parser, device, binary_output, **kwargs)\u001b[0m\n\u001b[1;32m    765\u001b[0m \u001b[39mself\u001b[39m\u001b[39m.\u001b[39m_batch_size \u001b[39m=\u001b[39m kwargs\u001b[39m.\u001b[39mpop(\u001b[39m\"\u001b[39m\u001b[39mbatch_size\u001b[39m\u001b[39m\"\u001b[39m, \u001b[39mNone\u001b[39;00m)\n\u001b[1;32m    766\u001b[0m \u001b[39mself\u001b[39m\u001b[39m.\u001b[39m_num_workers \u001b[39m=\u001b[39m kwargs\u001b[39m.\u001b[39mpop(\u001b[39m\"\u001b[39m\u001b[39mnum_workers\u001b[39m\u001b[39m\"\u001b[39m, \u001b[39mNone\u001b[39;00m)\n\u001b[0;32m--> 767\u001b[0m \u001b[39mself\u001b[39m\u001b[39m.\u001b[39m_preprocess_params, \u001b[39mself\u001b[39m\u001b[39m.\u001b[39m_forward_params, \u001b[39mself\u001b[39m\u001b[39m.\u001b[39m_postprocess_params \u001b[39m=\u001b[39m \u001b[39mself\u001b[39;49m\u001b[39m.\u001b[39;49m_sanitize_parameters(\u001b[39m*\u001b[39;49m\u001b[39m*\u001b[39;49mkwargs)\n",
      "File \u001b[0;32m~/miniforge3/envs/nasa-petal/lib/python3.9/site-packages/transformers/pipelines/token_classification.py:145\u001b[0m, in \u001b[0;36mTokenClassificationPipeline._sanitize_parameters\u001b[0;34m(self, ignore_labels, grouped_entities, ignore_subwords, aggregation_strategy, offset_mapping)\u001b[0m\n\u001b[1;32m    143\u001b[0m \u001b[39mif\u001b[39;00m aggregation_strategy \u001b[39mis\u001b[39;00m \u001b[39mnot\u001b[39;00m \u001b[39mNone\u001b[39;00m:\n\u001b[1;32m    144\u001b[0m     \u001b[39mif\u001b[39;00m \u001b[39misinstance\u001b[39m(aggregation_strategy, \u001b[39mstr\u001b[39m):\n\u001b[0;32m--> 145\u001b[0m         aggregation_strategy \u001b[39m=\u001b[39m AggregationStrategy[aggregation_strategy\u001b[39m.\u001b[39;49mupper()]\n\u001b[1;32m    146\u001b[0m     \u001b[39mif\u001b[39;00m (\n\u001b[1;32m    147\u001b[0m         aggregation_strategy\n\u001b[1;32m    148\u001b[0m         \u001b[39min\u001b[39;00m {AggregationStrategy\u001b[39m.\u001b[39mFIRST, AggregationStrategy\u001b[39m.\u001b[39mMAX, AggregationStrategy\u001b[39m.\u001b[39mAVERAGE}\n\u001b[1;32m    149\u001b[0m         \u001b[39mand\u001b[39;00m \u001b[39mnot\u001b[39;00m \u001b[39mself\u001b[39m\u001b[39m.\u001b[39mtokenizer\u001b[39m.\u001b[39mis_fast\n\u001b[1;32m    150\u001b[0m     ):\n\u001b[1;32m    151\u001b[0m         \u001b[39mraise\u001b[39;00m \u001b[39mValueError\u001b[39;00m(\n\u001b[1;32m    152\u001b[0m             \u001b[39m\"\u001b[39m\u001b[39mSlow tokenizers cannot handle subwords. Please set the `aggregation_strategy` option\u001b[39m\u001b[39m\"\u001b[39m\n\u001b[1;32m    153\u001b[0m             \u001b[39m'\u001b[39m\u001b[39mto `\u001b[39m\u001b[39m\"\u001b[39m\u001b[39msimple\u001b[39m\u001b[39m\"\u001b[39m\u001b[39m` or use a fast tokenizer.\u001b[39m\u001b[39m'\u001b[39m\n\u001b[1;32m    154\u001b[0m         )\n",
      "File \u001b[0;32m~/miniforge3/envs/nasa-petal/lib/python3.9/enum.py:432\u001b[0m, in \u001b[0;36mEnumMeta.__getitem__\u001b[0;34m(cls, name)\u001b[0m\n\u001b[1;32m    431\u001b[0m \u001b[39mdef\u001b[39;00m \u001b[39m__getitem__\u001b[39m(\u001b[39mcls\u001b[39m, name):\n\u001b[0;32m--> 432\u001b[0m     \u001b[39mreturn\u001b[39;00m \u001b[39mcls\u001b[39;49m\u001b[39m.\u001b[39;49m_member_map_[name]\n",
      "\u001b[0;31mKeyError\u001b[0m: 'COMPLEX'"
     ]
    }
   ],
   "source": [
    "from transformers import AutoModel, pipeline\n",
    "\n",
    "model_checkpoint = \"../SciBERT-FOBIE/model\"\n",
    "token_classifier = pipeline(\n",
    "    \"token-classification\", model=model_checkpoint, aggregation_strategy=\"simple\"\n",
    ")\n",
    "token_classifier(\"The harbor seal’s whiskers possess a specialized undulated surface structure that reduces vibrations as the whiskers move through water.\")"
   ]
  }
 ],
 "metadata": {
  "interpreter": {
   "hash": "92d548779f81c1a0d4f581d5b9bd270e2c1b74f140d6213b87e1406cdc999b34"
  },
  "kernelspec": {
   "display_name": "Python 3.9.10 ('nasa-petal')",
   "language": "python",
   "name": "python3"
  },
  "language_info": {
   "codemirror_mode": {
    "name": "ipython",
    "version": 3
   },
   "file_extension": ".py",
   "mimetype": "text/x-python",
   "name": "python",
   "nbconvert_exporter": "python",
   "pygments_lexer": "ipython3",
   "version": "3.9.10"
  },
  "orig_nbformat": 4
 },
 "nbformat": 4,
 "nbformat_minor": 2
}
