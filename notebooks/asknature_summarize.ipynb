{
 "cells": [
  {
   "cell_type": "code",
   "execution_count": 1,
   "metadata": {},
   "outputs": [
    {
     "name": "stdout",
     "output_type": "stream",
     "text": [
      "Metal device set to: Apple M1\n",
      "\n",
      "systemMemory: 8.00 GB\n",
      "maxCacheSize: 2.67 GB\n",
      "\n"
     ]
    },
    {
     "name": "stderr",
     "output_type": "stream",
     "text": [
      "2022-07-21 15:41:10.624592: I tensorflow/core/common_runtime/pluggable_device/pluggable_device_factory.cc:305] Could not identify NUMA node of platform GPU ID 0, defaulting to 0. Your kernel may not have been built with NUMA support.\n",
      "2022-07-21 15:41:10.624923: I tensorflow/core/common_runtime/pluggable_device/pluggable_device_factory.cc:271] Created TensorFlow device (/job:localhost/replica:0/task:0/device:GPU:0 with 0 MB memory) -> physical PluggableDevice (device: 0, name: METAL, pci bus id: <undefined>)\n"
     ]
    },
    {
     "data": {
      "text/plain": [
       "[{'summary_text': '<extra_id_0> a higher frequency airflows stimulate higher sensitivity at'}]"
      ]
     },
     "execution_count": 1,
     "metadata": {},
     "output_type": "execute_result"
    }
   ],
   "source": [
    "from transformers import pipeline\n",
    "\n",
    "checkpoint = \"../AskNature-Summarize/model/mt5-small-AskNature\"\n",
    "summarizer = pipeline(\"summarization\", model=checkpoint)\n",
    "\n",
    "# input = \"While scanning the water for these hydrodynamic signals at a swimming speed in the order of meters per second, the seal keeps its long and flexible whiskers in an abducted position, largely perpendicular to the swimming direction. Remarkably, the whiskers of harbor seals possess a specialized undulated surface structure, the function of which was, up to now, unknown. Here, we show that this structure effectively changes the vortex street behind the whiskers and reduces the vibrations that would otherwise be induced by the shedding of vortices from the whiskers (vortex-induced vibrations). Using force measurements, flow measurements and numerical simulations, we find that the dynamic forces on harbor seal whiskers are, by at least an order of magnitude, lower than those on sea lion (Zalophus californianus) whiskers, which do not share the undulated structure. The results are discussed in the light of pinniped sensory biology and potential biomimetic applications.\"\n",
    "# input = \"Tiny leg hairs help spiders sense subtle air movement by conducting it directly to nerve cells.\" \"When pelican wings glide close to water, they use \\u201cground effect\\u201d to maximize lift, minimize drag, and conserve energy.\\r\\n\", \"The tree-hole frog amplifies the sound of its call by adjusting its pitch to match the resonant frequency of its surroundings.\", \"Common reeds and other wetland plants transport gases through a network of spaces between their cells.\", \"Flying squirrels have membranes and cartilage that help them change lift and drag forces, enabling them to glide more than 100 times their body length.\", \"When bull snakes and their relatives bellow in defense, tissue boosts air flow as it passes over a single vocal cord to create an initial burst of sound.\\r\\n\", \"Microscopic scales provide lift to nature\\u2019s \\u201cflying flowers.\\u201d\", \"The Eurasian diving bell spider uses silk and goo to make an airy home for itself beneath the surface of a pond.\"\n",
    "input = \"\\u201cWhen the trichobothrium is deflected, the lower edge of the helmet presses against the end of the dendrite that inserts on the side in the direction of deflection (Fig. 7). Different deflection directions stimulate different sensory cells. This has the remarkable effect that a single trichobothrium \\u201clooks\\u201d in different directions with its three or four sensory cells, so that it can signal the direction of a stimulus to the spider (if the afferents are suitably connected to the central nervous circuitry).\\u201d (Barth 2002:93)\\n\\u201cTherefore, it seems that the \\u2018design\\u2019 of filiform hairs evolved to maximize mechanical sensitivity to higher frequencies (or equivalently the sensitivity to fast signals, such as transient and fast fluctuations), rather than to optimize the response at the frequency where the angular velocity is maximal. From an evolutionary point of view, this suggests the existence of strong pressures selecting for high sensitivity at higher frequencies.\\u201d (Bathellier et al. 2011:1141)\\nA \\u2026 fly flying towards a stationary alert predatory spider produce signals in which the progressively increasing amount of higher frequency airflows signify imminent encounter [3,14]. The filiform hairs of prey and predator arthropods may have attained the mechanical response properties close to the physical limit over the course of evolution to precisely assess such close encounters.\\u201d (Bathellier et al. 2011:1142)\\n\"\n",
    "summary = summarizer(input)\n",
    "summary"
   ]
  }
 ],
 "metadata": {
  "kernelspec": {
   "display_name": "Python 3.9.10 ('nasa-petal')",
   "language": "python",
   "name": "python3"
  },
  "language_info": {
   "codemirror_mode": {
    "name": "ipython",
    "version": 3
   },
   "file_extension": ".py",
   "mimetype": "text/x-python",
   "name": "python",
   "nbconvert_exporter": "python",
   "pygments_lexer": "ipython3",
   "version": "3.9.10"
  },
  "orig_nbformat": 4,
  "vscode": {
   "interpreter": {
    "hash": "92d548779f81c1a0d4f581d5b9bd270e2c1b74f140d6213b87e1406cdc999b34"
   }
  }
 },
 "nbformat": 4,
 "nbformat_minor": 2
}
