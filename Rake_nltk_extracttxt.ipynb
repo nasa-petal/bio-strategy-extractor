{
 "cells": [
  {
   "cell_type": "code",
   "execution_count": 10,
   "id": "58b8e821",
   "metadata": {},
   "outputs": [
    {
     "data": {
      "text/plain": [
       "['specialized undulated surface structure',\n",
       " 'structure effectively changes',\n",
       " 'potential biomimetic applications',\n",
       " 'pinniped sensory biology',\n",
       " 'meters per second',\n",
       " 'harbor seals possess',\n",
       " 'using force measurements',\n",
       " 'vortex street behind',\n",
       " 'induced vibrations ).',\n",
       " 'harbor seal whiskers',\n",
       " 'undulated structure',\n",
       " 'seal keeps',\n",
       " 'flow measurements',\n",
       " 'zalophus californianus',\n",
       " 'would otherwise',\n",
       " 'swimming speed',\n",
       " 'swimming direction',\n",
       " 'sea lion',\n",
       " 'numerical simulations',\n",
       " 'largely perpendicular',\n",
       " 'hydrodynamic signals',\n",
       " 'dynamic forces',\n",
       " 'abducted position',\n",
       " 'flexible whiskers',\n",
       " 'vortex',\n",
       " 'vibrations',\n",
       " 'induced',\n",
       " 'whiskers',\n",
       " 'whiskers',\n",
       " 'whiskers',\n",
       " 'whiskers',\n",
       " 'water',\n",
       " 'vortices',\n",
       " 'unknown',\n",
       " 'show',\n",
       " 'shedding',\n",
       " 'share',\n",
       " 'scanning',\n",
       " 'results',\n",
       " 'remarkably',\n",
       " 'reduces',\n",
       " 'order',\n",
       " 'order',\n",
       " 'magnitude',\n",
       " 'lower',\n",
       " 'long',\n",
       " 'light',\n",
       " 'least',\n",
       " 'function',\n",
       " 'find',\n",
       " 'discussed']"
      ]
     },
     "execution_count": 10,
     "metadata": {},
     "output_type": "execute_result"
    }
   ],
   "source": [
    "import nltk\n",
    "import string\n",
    "from heapq import nlargest\n",
    "from rake_nltk import Rake\n",
    "import numpy as np\n",
    "\n",
    "r = Rake()\n",
    "\n",
    "# Note: Can use a website or directory with the text file in place of this line:\n",
    "txt = \"While scanning the water for these hydrodynamic signals at a swimming speed in the order of meters per second, the seal keeps its long and flexible whiskers in an abducted position, largely perpendicular to the swimming direction. Remarkably, the whiskers of harbor seals possess a specialized undulated surface structure, the function of which was, up to now, unknown. Here, we show that this structure effectively changes the vortex street behind the whiskers and reduces the vibrations that would otherwise be induced by the shedding of vortices from the whiskers (vortex-induced vibrations). Using force measurements, flow measurements and numerical simulations, we find that the dynamic forces on harbor seal whiskers are, by at least an order of magnitude, lower than those on sea lion (Zalophus californianus) whiskers, which do not share the undulated structure. The results are discussed in the light of pinniped sensory biology and potential biomimetic applications.\"\n",
    "\n",
    "r.extract_keywords_from_text(txt)\n",
    "\n",
    "#r.get_ranked_phrases()[0:10]\n",
    "r.get_ranked_phrases()"
   ]
  },
  {
   "cell_type": "code",
   "execution_count": 2,
   "id": "bdcf2515",
   "metadata": {
    "scrolled": true
   },
   "outputs": [
    {
     "data": {
      "text/plain": [
       "[(14.0, 'specialized undulated surface structure'),\n",
       " (9.0, 'structure effectively changes'),\n",
       " (9.0, 'potential biomimetic applications'),\n",
       " (9.0, 'pinniped sensory biology'),\n",
       " (9.0, 'meters per second'),\n",
       " (9.0, 'harbor seals possess'),\n",
       " (8.5, 'using force measurements'),\n",
       " (8.0, 'vortex street behind'),\n",
       " (7.0, 'induced vibrations ).'),\n",
       " (7.0, 'harbor seal whiskers'),\n",
       " (6.0, 'undulated structure'),\n",
       " (4.5, 'seal keeps'),\n",
       " (4.5, 'flow measurements'),\n",
       " (4.0, 'zalophus californianus'),\n",
       " (4.0, 'would otherwise'),\n",
       " (4.0, 'swimming speed'),\n",
       " (4.0, 'swimming direction'),\n",
       " (4.0, 'sea lion'),\n",
       " (4.0, 'numerical simulations'),\n",
       " (4.0, 'largely perpendicular'),\n",
       " (4.0, 'hydrodynamic signals'),\n",
       " (4.0, 'dynamic forces'),\n",
       " (4.0, 'abducted position'),\n",
       " (3.5, 'flexible whiskers'),\n",
       " (2.0, 'vortex'),\n",
       " (2.0, 'vibrations'),\n",
       " (2.0, 'induced'),\n",
       " (1.5, 'whiskers'),\n",
       " (1.5, 'whiskers'),\n",
       " (1.5, 'whiskers'),\n",
       " (1.5, 'whiskers'),\n",
       " (1.0, 'water'),\n",
       " (1.0, 'vortices'),\n",
       " (1.0, 'unknown'),\n",
       " (1.0, 'show'),\n",
       " (1.0, 'shedding'),\n",
       " (1.0, 'share'),\n",
       " (1.0, 'scanning'),\n",
       " (1.0, 'results'),\n",
       " (1.0, 'remarkably'),\n",
       " (1.0, 'reduces'),\n",
       " (1.0, 'order'),\n",
       " (1.0, 'order'),\n",
       " (1.0, 'magnitude'),\n",
       " (1.0, 'lower'),\n",
       " (1.0, 'long'),\n",
       " (1.0, 'light'),\n",
       " (1.0, 'least'),\n",
       " (1.0, 'function'),\n",
       " (1.0, 'find'),\n",
       " (1.0, 'discussed')]"
      ]
     },
     "execution_count": 2,
     "metadata": {},
     "output_type": "execute_result"
    }
   ],
   "source": [
    "r.get_ranked_phrases_with_scores()"
   ]
  },
  {
   "cell_type": "code",
   "execution_count": 3,
   "id": "25ae00c1",
   "metadata": {},
   "outputs": [],
   "source": [
    "if txt.count(\". \") > 150:\n",
    "    length = int(round(txt.count(\". \")/10, 0))\n",
    "else:\n",
    "    length = 1"
   ]
  },
  {
   "cell_type": "code",
   "execution_count": 4,
   "id": "705e4557",
   "metadata": {},
   "outputs": [],
   "source": [
    "# Remove punctuation and stopwords:\n",
    "rmvp = [char for char in txt if char not in string.punctuation]\n",
    "rmvp = ''.join(rmvp)\n",
    "new_text =[word for word in rmvp.split() if word.lower() not in nltk.corpus.stopwords.words('english')]"
   ]
  },
  {
   "cell_type": "code",
   "execution_count": 5,
   "id": "f36aa880",
   "metadata": {},
   "outputs": [],
   "source": [
    "word_frequency = {}\n",
    "\n",
    "for word in new_text:\n",
    "    if word not in word_frequency:\n",
    "        word_frequency[word] = 1\n",
    "    else:\n",
    "        word_frequency[word] = word_frequency[word] + 1"
   ]
  },
  {
   "cell_type": "code",
   "execution_count": 6,
   "id": "1ca669a0",
   "metadata": {},
   "outputs": [],
   "source": [
    "maxfreq = max(word_frequency.values())\n",
    "for word in word_frequency.keys():\n",
    "    word_frequency[word] = (word_frequency[word]/maxfreq)"
   ]
  },
  {
   "cell_type": "code",
   "execution_count": 7,
   "id": "e7027fca",
   "metadata": {},
   "outputs": [],
   "source": [
    "slist = nltk.sent_tokenize(txt)\n",
    "sscore = {}\n",
    "for sent in slist:\n",
    "    for word in nltk.word_tokenize(sent.lower()):\n",
    "        if word in word_frequency.keys():\n",
    "            if sent not in sscore.keys():\n",
    "                sscore[sent] = word_frequency[word]\n",
    "            else:\n",
    "                sscore[sent] = sscore[sent] + word_frequency[word]"
   ]
  },
  {
   "cell_type": "code",
   "execution_count": 12,
   "id": "c1b7ff6c",
   "metadata": {
    "scrolled": false
   },
   "outputs": [
    {
     "name": "stdout",
     "output_type": "stream",
     "text": [
      "Using force measurements, flow measurements and numerical simulations, we find that the dynamic forces on harbor seal whiskers are, by at least an order of magnitude, lower than those on sea lion (Zalophus californianus) whiskers, which do not share the undulated structure. ['specialized undulated surface structure', 'structure effectively changes', 'potential biomimetic applications', 'pinniped sensory biology', 'meters per second', 'harbor seals possess', 'using force measurements', 'vortex street behind', 'induced vibrations ).', 'harbor seal whiskers', 'undulated structure', 'seal keeps', 'flow measurements', 'zalophus californianus', 'would otherwise', 'swimming speed', 'swimming direction', 'sea lion', 'numerical simulations', 'largely perpendicular', 'hydrodynamic signals', 'dynamic forces', 'abducted position', 'flexible whiskers', 'vortex', 'vibrations', 'induced', 'whiskers', 'whiskers', 'whiskers', 'whiskers', 'water', 'vortices', 'unknown', 'show', 'shedding', 'share', 'scanning', 'results', 'remarkably', 'reduces', 'order', 'order', 'magnitude', 'lower', 'long', 'light', 'least', 'function', 'find', 'discussed']\n"
     ]
    }
   ],
   "source": [
    "summary = nlargest(length, sscore, key = sscore.get)\n",
    "summ = ' '.join(summary)\n",
    "print(summ, r.get_ranked_phrases())"
   ]
  },
  {
   "cell_type": "code",
   "execution_count": null,
   "id": "3807c1a8",
   "metadata": {},
   "outputs": [],
   "source": []
  }
 ],
 "metadata": {
  "kernelspec": {
   "display_name": "Python 3 (ipykernel)",
   "language": "python",
   "name": "python3"
  },
  "language_info": {
   "codemirror_mode": {
    "name": "ipython",
    "version": 3
   },
   "file_extension": ".py",
   "mimetype": "text/x-python",
   "name": "python",
   "nbconvert_exporter": "python",
   "pygments_lexer": "ipython3",
   "version": "3.9.1"
  }
 },
 "nbformat": 4,
 "nbformat_minor": 5
}
