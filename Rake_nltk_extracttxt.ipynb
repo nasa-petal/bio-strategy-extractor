{
 "cells": [
  {
   "cell_type": "code",
   "execution_count": 1,
   "id": "58b8e821",
   "metadata": {},
   "outputs": [
    {
     "data": {
      "text/plain": [
       "['specialized undulated surface structure',\n",
       " 'structure effectively changes',\n",
       " 'potential biomimetic applications',\n",
       " 'pinniped sensory biology',\n",
       " 'meters per second',\n",
       " 'harbor seals possess',\n",
       " 'using force measurements',\n",
       " 'vortex street behind',\n",
       " 'induced vibrations ).',\n",
       " 'harbor seal whiskers']"
      ]
     },
     "execution_count": 1,
     "metadata": {},
     "output_type": "execute_result"
    }
   ],
   "source": [
    "import nltk\n",
    "import string\n",
    "from heapq import nlargest\n",
    "from rake_nltk import Rake\n",
    "\n",
    "r = Rake()\n",
    "\n",
    "txt = \"While scanning the water for these hydrodynamic signals at a swimming speed in the order of meters per second, the seal keeps its long and flexible whiskers in an abducted position, largely perpendicular to the swimming direction. Remarkably, the whiskers of harbor seals possess a specialized undulated surface structure, the function of which was, up to now, unknown. Here, we show that this structure effectively changes the vortex street behind the whiskers and reduces the vibrations that would otherwise be induced by the shedding of vortices from the whiskers (vortex-induced vibrations). Using force measurements, flow measurements and numerical simulations, we find that the dynamic forces on harbor seal whiskers are, by at least an order of magnitude, lower than those on sea lion (Zalophus californianus) whiskers, which do not share the undulated structure. The results are discussed in the light of pinniped sensory biology and potential biomimetic applications.\"\n",
    "\n",
    "r.extract_keywords_from_text(txt)\n",
    "\n",
    "r.get_ranked_phrases()[0:10]"
   ]
  },
  {
   "cell_type": "code",
   "execution_count": 2,
   "id": "fad1091c",
   "metadata": {},
   "outputs": [],
   "source": [
    "if txt.count(\". \") > 150:\n",
    "    length = int(round(txt.count(\". \")/10, 0))\n",
    "else:\n",
    "    length = 1"
   ]
  },
  {
   "cell_type": "code",
   "execution_count": 3,
   "id": "c30f4c71",
   "metadata": {},
   "outputs": [],
   "source": [
    "# Remove punctuation and stopwords:\n",
    "rmvp = [char for char in txt if char not in string.punctuation]\n",
    "rmvp = ''.join(rmvp)\n",
    "new_text =[word for word in rmvp.split() if word.lower() not in nltk.corpus.stopwords.words('english')]"
   ]
  },
  {
   "cell_type": "code",
   "execution_count": 4,
   "id": "9d9b9f84",
   "metadata": {},
   "outputs": [],
   "source": [
    "word_frequency = {}\n",
    "\n",
    "for word in new_text:\n",
    "    if word not in word_frequency:\n",
    "        word_frequency[word] = 1\n",
    "    else:\n",
    "        word_frequency[word] = word_frequency[word] + 1"
   ]
  },
  {
   "cell_type": "code",
   "execution_count": 5,
   "id": "9778bba2",
   "metadata": {},
   "outputs": [],
   "source": [
    "maxfreq = max(word_frequency.values())\n",
    "for word in word_frequency.keys():\n",
    "    word_frequency[word] = (word_frequency[word]/maxfreq)"
   ]
  },
  {
   "cell_type": "code",
   "execution_count": 6,
   "id": "492c5657",
   "metadata": {},
   "outputs": [],
   "source": [
    "slist = nltk.sent_tokenize(txt)\n",
    "sscore = {}\n",
    "for sent in slist:\n",
    "    for word in nltk.word_tokenize(sent.lower()):\n",
    "        if word in word_frequency.keys():\n",
    "            if sent not in sscore.keys():\n",
    "                sscore[sent] = word_frequency[word]\n",
    "            else:\n",
    "                sscore[sent] = sscore[sent] + word_frequency[word]"
   ]
  },
  {
   "cell_type": "code",
   "execution_count": 7,
   "id": "c962a56b",
   "metadata": {},
   "outputs": [
    {
     "name": "stdout",
     "output_type": "stream",
     "text": [
      "Using force measurements, flow measurements and numerical simulations, we find that the dynamic forces on harbor seal whiskers are, by at least an order of magnitude, lower than those on sea lion (Zalophus californianus) whiskers, which do not share the undulated structure. ['specialized undulated surface structure', 'structure effectively changes', 'potential biomimetic applications', 'pinniped sensory biology', 'meters per second', 'harbor seals possess', 'using force measurements', 'vortex street behind', 'induced vibrations ).', 'harbor seal whiskers']\n"
     ]
    }
   ],
   "source": [
    "summary = nlargest(length, sscore, key = sscore.get)\n",
    "summ = ' '.join(summary)\n",
    "print(summ, r.get_ranked_phrases()[0:10])"
   ]
  }
 ],
 "metadata": {
  "kernelspec": {
   "display_name": "Python 3 (ipykernel)",
   "language": "python",
   "name": "python3"
  },
  "language_info": {
   "codemirror_mode": {
    "name": "ipython",
    "version": 3
   },
   "file_extension": ".py",
   "mimetype": "text/x-python",
   "name": "python",
   "nbconvert_exporter": "python",
   "pygments_lexer": "ipython3",
   "version": "3.9.1"
  }
 },
 "nbformat": 4,
 "nbformat_minor": 5
}
