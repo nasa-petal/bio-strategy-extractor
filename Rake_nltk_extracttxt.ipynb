{
 "cells": [
  {
   "cell_type": "code",
   "execution_count": 1,
   "id": "58b8e821",
   "metadata": {},
   "outputs": [
    {
     "data": {
      "text/plain": [
       "['specialized undulated surface structure',\n",
       " 'structure effectively changes',\n",
       " 'potential biomimetic applications',\n",
       " 'pinniped sensory biology',\n",
       " 'meters per second',\n",
       " 'harbor seals possess',\n",
       " 'using force measurements',\n",
       " 'vortex street behind',\n",
       " 'induced vibrations ).',\n",
       " 'harbor seal whiskers']"
      ]
     },
     "execution_count": 1,
     "metadata": {},
     "output_type": "execute_result"
    }
   ],
   "source": [
    "from rake_nltk import Rake\n",
    "\n",
    "r = Rake()\n",
    "\n",
    "subtitles = \"While scanning the water for these hydrodynamic signals at a swimming speed in the order of meters per second, the seal keeps its long and flexible whiskers in an abducted position, largely perpendicular to the swimming direction. Remarkably, the whiskers of harbor seals possess a specialized undulated surface structure, the function of which was, up to now, unknown. Here, we show that this structure effectively changes the vortex street behind the whiskers and reduces the vibrations that would otherwise be induced by the shedding of vortices from the whiskers (vortex-induced vibrations). Using force measurements, flow measurements and numerical simulations, we find that the dynamic forces on harbor seal whiskers are, by at least an order of magnitude, lower than those on sea lion (Zalophus californianus) whiskers, which do not share the undulated structure. The results are discussed in the light of pinniped sensory biology and potential biomimetic applications.\"\n",
    "\n",
    "r.extract_keywords_from_text(subtitles)\n",
    "\n",
    "r.get_ranked_phrases()[0:10]"
   ]
  },
  {
   "cell_type": "code",
   "execution_count": null,
   "id": "2bd4128b",
   "metadata": {},
   "outputs": [],
   "source": []
  }
 ],
 "metadata": {
  "kernelspec": {
   "display_name": "Python 3 (ipykernel)",
   "language": "python",
   "name": "python3"
  },
  "language_info": {
   "codemirror_mode": {
    "name": "ipython",
    "version": 3
   },
   "file_extension": ".py",
   "mimetype": "text/x-python",
   "name": "python",
   "nbconvert_exporter": "python",
   "pygments_lexer": "ipython3",
   "version": "3.9.1"
  }
 },
 "nbformat": 4,
 "nbformat_minor": 5
}
