{
 "cells": [
  {
   "cell_type": "code",
   "execution_count": 17,
   "id": "58b8e821",
   "metadata": {
    "scrolled": true
   },
   "outputs": [
    {
     "data": {
      "text/plain": [
       "['23 – 160 residue length n',\n",
       " 'continuous predicted coiled coil region',\n",
       " 'ant silk genes (< 50',\n",
       " '4 small fibroin proteins identified',\n",
       " 'small (∼ 30 kda',\n",
       " 'radically different evolutionary solution',\n",
       " 'identified conserved design elements',\n",
       " 'ant sequences ), consistent',\n",
       " 'strong protein fibers produced',\n",
       " 'extensive sequence divergence among',\n",
       " 'found coiled coil structure',\n",
       " '4 fibrous proteins',\n",
       " 'coiled coil structure',\n",
       " 'repetitive proteins assembled',\n",
       " 'species produced orthologues',\n",
       " 'equivalent divergence since',\n",
       " 'coiled coil silks',\n",
       " 'high background level',\n",
       " 'around 210 residues',\n",
       " '155 myr ).',\n",
       " 'honeybee silk genes',\n",
       " 'silk genes',\n",
       " 'subsequently identified',\n",
       " 'ant split',\n",
       " 'fibroin contained',\n",
       " 'coiled coils',\n",
       " 'honeybee silk',\n",
       " 'honeybee silk',\n",
       " 'sequence diversity',\n",
       " 'vast majority',\n",
       " 'unusually rich',\n",
       " 'sheet structures',\n",
       " 'parasitic wasps',\n",
       " 'known silks',\n",
       " 'infrared spectroscopy',\n",
       " 'extended β',\n",
       " 'examined silks',\n",
       " 'building material',\n",
       " 'broad array',\n",
       " 'alignable regions',\n",
       " '3 superfamilies',\n",
       " 'weaver ants',\n",
       " 'bulldog ants',\n",
       " 'found',\n",
       " 'silks',\n",
       " 'ants',\n",
       " 'vespoidea',\n",
       " 'termini',\n",
       " 'spiders',\n",
       " 'similarity',\n",
       " 'sequenced',\n",
       " 'propose',\n",
       " 'nonrepetitive',\n",
       " 'need',\n",
       " 'large',\n",
       " 'insects',\n",
       " 'hymenoptera',\n",
       " 'however',\n",
       " 'honeybees',\n",
       " 'function',\n",
       " 'flanked',\n",
       " 'estimated',\n",
       " 'essential',\n",
       " 'despite',\n",
       " 'cores',\n",
       " 'constant',\n",
       " 'compared',\n",
       " 'chrysidoidea',\n",
       " 'c',\n",
       " 'bumblebees',\n",
       " 'bees',\n",
       " 'bee',\n",
       " 'bee',\n",
       " 'bee',\n",
       " 'assembly',\n",
       " 'apoidea',\n",
       " 'apocrita',\n",
       " 'alanine',\n",
       " 'adopt',\n",
       " 'aculeata']"
      ]
     },
     "execution_count": 17,
     "metadata": {},
     "output_type": "execute_result"
    }
   ],
   "source": [
    "import nltk\n",
    "import string\n",
    "from heapq import nlargest\n",
    "from rake_nltk import Rake\n",
    "import numpy as np\n",
    "\n",
    "r = Rake()\n",
    "\n",
    "# Note: Can use a website or directory with the text file in place of this line:\n",
    "#txt = \"While scanning the water for these hydrodynamic signals at a swimming speed in the order of meters per second, the seal keeps its long and flexible whiskers in an abducted position, largely perpendicular to the swimming direction. Remarkably, the whiskers of harbor seals possess a specialized undulated surface structure, the function of which was, up to now, unknown. Here, we show that this structure effectively changes the vortex street behind the whiskers and reduces the vibrations that would otherwise be induced by the shedding of vortices from the whiskers (vortex-induced vibrations). Using force measurements, flow measurements and numerical simulations, we find that the dynamic forces on harbor seal whiskers are, by at least an order of magnitude, lower than those on sea lion (Zalophus californianus) whiskers, which do not share the undulated structure. The results are discussed in the light of pinniped sensory biology and potential biomimetic applications.\"\n",
    "#txt = \"This study shows that although annual fluctuations occur in the main prey types of Skomer Puffins, food availability does not appear to limit breeding success. Most birds found food close to the colony, showing peaks of activity early in the day and again in late afternoon; and two out of four experimental pairs were able to rear 'twins', though the growth-rates of these were less than for single chicks. Some interesting observations are given on the feeding of the chick and on kleptoparasitism of adults by Jackdaws and gulls.\"\n",
    "txt = \"Silks are strong protein fibers produced by a broad array of spiders and insects. The vast majority of known silks are large, repetitive proteins assembled into extended β-sheet structures. Honeybees, however, have found a radically different evolutionary solution to the need for a building material. The 4 fibrous proteins of honeybee silk are small (∼30 kDa each) and nonrepetitive and adopt a coiled coil structure. We examined silks from the 3 superfamilies of the Aculeata (Hymenoptera: Apocrita) by infrared spectroscopy and found coiled coil structure in bees (Apoidea) and in ants (Vespoidea) but not in parasitic wasps of the Chrysidoidea. We subsequently identified and sequenced the silk genes of bumblebees, bulldog ants, and weaver ants and compared these with honeybee silk genes. Each species produced orthologues of the 4 small fibroin proteins identified in honeybee silk. Each fibroin contained a continuous predicted coiled coil region of around 210 residues, flanked by 23–160 residue length N- and C-termini. The cores of the coiled coils were unusually rich in alanine. There was extensive sequence divergence among the bee and ant silk genes (<50% similarity between the alignable regions of bee and ant sequences), consistent with constant and equivalent divergence since the bee/ant split (estimated to be 155 Myr). Despite a high background level of sequence diversity, we have identified conserved design elements that we propose are essential to the assembly and function of coiled coil silks.\"\n",
    "r.extract_keywords_from_text(txt)\n",
    "\n",
    "#r.get_ranked_phrases()[0:10]\n",
    "r.get_ranked_phrases()"
   ]
  },
  {
   "cell_type": "code",
   "execution_count": 18,
   "id": "bdcf2515",
   "metadata": {
    "scrolled": true
   },
   "outputs": [
    {
     "data": {
      "text/plain": [
       "[(36.0, '23 – 160 residue length n'),\n",
       " (22.15, 'continuous predicted coiled coil region'),\n",
       " (19.8, 'ant silk genes (< 50'),\n",
       " (19.333333333333332, '4 small fibroin proteins identified'),\n",
       " (16.5, 'small (∼ 30 kda'),\n",
       " (16.0, 'radically different evolutionary solution'),\n",
       " (15.666666666666666, 'identified conserved design elements'),\n",
       " (15.666666666666666, 'ant sequences ), consistent'),\n",
       " (15.5, 'strong protein fibers produced'),\n",
       " (14.5, 'extensive sequence divergence among'),\n",
       " (13.15, 'found coiled coil structure'),\n",
       " (10.666666666666666, '4 fibrous proteins'),\n",
       " (10.65, 'coiled coil structure'),\n",
       " (9.666666666666666, 'repetitive proteins assembled'),\n",
       " (9.5, 'species produced orthologues'),\n",
       " (9.5, 'equivalent divergence since'),\n",
       " (9.15, 'coiled coil silks'),\n",
       " (9.0, 'high background level'),\n",
       " (9.0, 'around 210 residues'),\n",
       " (9.0, '155 myr ).'),\n",
       " (8.466666666666667, 'honeybee silk genes'),\n",
       " (6.133333333333333, 'silk genes'),\n",
       " (5.666666666666666, 'subsequently identified'),\n",
       " (5.666666666666666, 'ant split'),\n",
       " (5.5, 'fibroin contained'),\n",
       " (5.4, 'coiled coils'),\n",
       " (5.133333333333333, 'honeybee silk'),\n",
       " (5.133333333333333, 'honeybee silk'),\n",
       " (5.0, 'sequence diversity'),\n",
       " (4.0, 'vast majority'),\n",
       " (4.0, 'unusually rich'),\n",
       " (4.0, 'sheet structures'),\n",
       " (4.0, 'parasitic wasps'),\n",
       " (4.0, 'known silks'),\n",
       " (4.0, 'infrared spectroscopy'),\n",
       " (4.0, 'extended β'),\n",
       " (4.0, 'examined silks'),\n",
       " (4.0, 'building material'),\n",
       " (4.0, 'broad array'),\n",
       " (4.0, 'alignable regions'),\n",
       " (4.0, '3 superfamilies'),\n",
       " (3.666666666666667, 'weaver ants'),\n",
       " (3.666666666666667, 'bulldog ants'),\n",
       " (2.5, 'found'),\n",
       " (2.0, 'silks'),\n",
       " (1.6666666666666667, 'ants'),\n",
       " (1.0, 'vespoidea'),\n",
       " (1.0, 'termini'),\n",
       " (1.0, 'spiders'),\n",
       " (1.0, 'similarity'),\n",
       " (1.0, 'sequenced'),\n",
       " (1.0, 'propose'),\n",
       " (1.0, 'nonrepetitive'),\n",
       " (1.0, 'need'),\n",
       " (1.0, 'large'),\n",
       " (1.0, 'insects'),\n",
       " (1.0, 'hymenoptera'),\n",
       " (1.0, 'however'),\n",
       " (1.0, 'honeybees'),\n",
       " (1.0, 'function'),\n",
       " (1.0, 'flanked'),\n",
       " (1.0, 'estimated'),\n",
       " (1.0, 'essential'),\n",
       " (1.0, 'despite'),\n",
       " (1.0, 'cores'),\n",
       " (1.0, 'constant'),\n",
       " (1.0, 'compared'),\n",
       " (1.0, 'chrysidoidea'),\n",
       " (1.0, 'c'),\n",
       " (1.0, 'bumblebees'),\n",
       " (1.0, 'bees'),\n",
       " (1.0, 'bee'),\n",
       " (1.0, 'bee'),\n",
       " (1.0, 'bee'),\n",
       " (1.0, 'assembly'),\n",
       " (1.0, 'apoidea'),\n",
       " (1.0, 'apocrita'),\n",
       " (1.0, 'alanine'),\n",
       " (1.0, 'adopt'),\n",
       " (1.0, 'aculeata')]"
      ]
     },
     "execution_count": 18,
     "metadata": {},
     "output_type": "execute_result"
    }
   ],
   "source": [
    "r.get_ranked_phrases_with_scores()"
   ]
  },
  {
   "cell_type": "code",
   "execution_count": 19,
   "id": "25ae00c1",
   "metadata": {},
   "outputs": [],
   "source": [
    "# Text summarization method 1"
   ]
  },
  {
   "cell_type": "code",
   "execution_count": 20,
   "id": "705e4557",
   "metadata": {},
   "outputs": [],
   "source": [
    "if txt.count(\". \") > 150:\n",
    "    length = int(round(txt.count(\". \")/10, 0))\n",
    "else:\n",
    "    length = 1"
   ]
  },
  {
   "cell_type": "code",
   "execution_count": 21,
   "id": "f36aa880",
   "metadata": {},
   "outputs": [],
   "source": [
    "# Remove punctuation and stopwords:\n",
    "rmvp = [char for char in txt if char not in string.punctuation]\n",
    "rmvp = ''.join(rmvp)\n",
    "new_text =[word for word in rmvp.split() if word.lower() not in nltk.corpus.stopwords.words('english')]"
   ]
  },
  {
   "cell_type": "code",
   "execution_count": 22,
   "id": "1ca669a0",
   "metadata": {},
   "outputs": [],
   "source": [
    "word_frequency = {}\n",
    "\n",
    "for word in new_text:\n",
    "    if word not in word_frequency:\n",
    "        word_frequency[word] = 1\n",
    "    else:\n",
    "        word_frequency[word] = word_frequency[word] + 1"
   ]
  },
  {
   "cell_type": "code",
   "execution_count": 23,
   "id": "e7027fca",
   "metadata": {},
   "outputs": [],
   "source": [
    "maxfreq = max(word_frequency.values())\n",
    "for word in word_frequency.keys():\n",
    "    word_frequency[word] = (word_frequency[word]/maxfreq)"
   ]
  },
  {
   "cell_type": "code",
   "execution_count": 24,
   "id": "c1b7ff6c",
   "metadata": {
    "scrolled": false
   },
   "outputs": [],
   "source": [
    "slist = nltk.sent_tokenize(txt)\n",
    "sscore = {}\n",
    "for sent in slist:\n",
    "    for word in nltk.word_tokenize(sent.lower()):\n",
    "        if word in word_frequency.keys():\n",
    "            if sent not in sscore.keys():\n",
    "                sscore[sent] = word_frequency[word]\n",
    "            else:\n",
    "                sscore[sent] = sscore[sent] + word_frequency[word]"
   ]
  },
  {
   "cell_type": "code",
   "execution_count": 25,
   "id": "3807c1a8",
   "metadata": {},
   "outputs": [
    {
     "name": "stdout",
     "output_type": "stream",
     "text": [
      "There was extensive sequence divergence among the bee and ant silk genes (<50% similarity between the alignable regions of bee and ant sequences), consistent with constant and equivalent divergence since the bee/ant split (estimated to be 155 Myr). ['23 – 160 residue length n', 'continuous predicted coiled coil region', 'ant silk genes (< 50', '4 small fibroin proteins identified', 'small (∼ 30 kda', 'radically different evolutionary solution', 'identified conserved design elements', 'ant sequences ), consistent', 'strong protein fibers produced', 'extensive sequence divergence among', 'found coiled coil structure', '4 fibrous proteins', 'coiled coil structure', 'repetitive proteins assembled', 'species produced orthologues', 'equivalent divergence since', 'coiled coil silks', 'high background level', 'around 210 residues', '155 myr ).', 'honeybee silk genes', 'silk genes', 'subsequently identified', 'ant split', 'fibroin contained', 'coiled coils', 'honeybee silk', 'honeybee silk', 'sequence diversity', 'vast majority', 'unusually rich', 'sheet structures', 'parasitic wasps', 'known silks', 'infrared spectroscopy', 'extended β', 'examined silks', 'building material', 'broad array', 'alignable regions', '3 superfamilies', 'weaver ants', 'bulldog ants', 'found', 'silks', 'ants', 'vespoidea', 'termini', 'spiders', 'similarity', 'sequenced', 'propose', 'nonrepetitive', 'need', 'large', 'insects', 'hymenoptera', 'however', 'honeybees', 'function', 'flanked', 'estimated', 'essential', 'despite', 'cores', 'constant', 'compared', 'chrysidoidea', 'c', 'bumblebees', 'bees', 'bee', 'bee', 'bee', 'assembly', 'apoidea', 'apocrita', 'alanine', 'adopt', 'aculeata']\n"
     ]
    }
   ],
   "source": [
    "summary = nlargest(length, sscore, key = sscore.get)\n",
    "summ = ' '.join(summary)\n",
    "print(summ, r.get_ranked_phrases())"
   ]
  },
  {
   "cell_type": "markdown",
   "id": "bb99e66f",
   "metadata": {},
   "source": [
    "Text Summarization that incorporates what Rake does."
   ]
  },
  {
   "cell_type": "code",
   "execution_count": 26,
   "id": "020e7cd5",
   "metadata": {},
   "outputs": [],
   "source": [
    "from nltk.corpus import stopwords\n",
    "from nltk.cluster.util import cosine_distance\n",
    "import numpy as np\n",
    "import networkx as nx"
   ]
  },
  {
   "cell_type": "code",
   "execution_count": 27,
   "id": "069b6309",
   "metadata": {},
   "outputs": [],
   "source": [
    "def read_article(file_name):\n",
    "    file = open(file_name, \"r\")\n",
    "    filedata = file.readlines()\n",
    "    article = filedata[0].split(\". \")\n",
    "    sentences = [\"Silks are strong protein fibers produced by a broad array of spiders and insects. The vast majority of known silks are large, repetitive proteins assembled into extended β-sheet structures. Honeybees, however, have found a radically different evolutionary solution to the need for a building material. The 4 fibrous proteins of honeybee silk are small (∼30 kDa each) and nonrepetitive and adopt a coiled coil structure. We examined silks from the 3 superfamilies of the Aculeata (Hymenoptera: Apocrita) by infrared spectroscopy and found coiled coil structure in bees (Apoidea) and in ants (Vespoidea) but not in parasitic wasps of the Chrysidoidea. We subsequently identified and sequenced the silk genes of bumblebees, bulldog ants, and weaver ants and compared these with honeybee silk genes. Each species produced orthologues of the 4 small fibroin proteins identified in honeybee silk. Each fibroin contained a continuous predicted coiled coil region of around 210 residues, flanked by 23–160 residue length N- and C-termini. The cores of the coiled coils were unusually rich in alanine. There was extensive sequence divergence among the bee and ant silk genes (<50% similarity between the alignable regions of bee and ant sequences), consistent with constant and equivalent divergence since the bee/ant split (estimated to be 155 Myr). Despite a high background level of sequence diversity, we have identified conserved design elements that we propose are essential to the assembly and function of coiled coil silks.\"]\n",
    "    #sentences = [\"This study shows that although annual fluctuations occur in the main prey types of Skomer Puffins, food availability does not appear to limit breeding success. Most birds found food close to the colony, showing peaks of activity early in the day and again in late afternoon; and two out of four experimental pairs were able to rear 'twins', though the growth-rates of these were less than for single chicks. Some interesting observations are given on the feeding of the chick and on kleptoparasitism of adults by Jackdaws and gulls.\"]\n",
    "    #sentences = [\"While scanning the water for these hydrodynamic signals at a swimming speed in the order of meters per second, the seal keeps its long and flexible whiskers in an abducted position, largely perpendicular to the swimming direction. Remarkably, the whiskers of harbor seals possess a specialized undulated surface structure, the function of which was, up to now, unknown. Here, we show that this structure effectively changes the vortex street behind the whiskers and reduces the vibrations that would otherwise be induced by the shedding of vortices from the whiskers (vortex-induced vibrations). Using force measurements, flow measurements and numerical simulations, we find that the dynamic forces on harbor seal whiskers are, by at least an order of magnitude, lower than those on sea lion (Zalophus californianus) whiskers, which do not share the undulated structure. The results are discussed in the light of pinniped sensory biology and potential biomimetic applications.\"]\n",
    "    \n",
    "    for sentence in article:\n",
    "        print(sentence)\n",
    "        sentences.append(sentence.replace(\"[^a-zA-Z]\", \" \").split(\" \"))\n",
    "    sentences.pop() \n",
    "    \n",
    "    return sentences"
   ]
  },
  {
   "cell_type": "code",
   "execution_count": 28,
   "id": "409e9251",
   "metadata": {},
   "outputs": [],
   "source": [
    "def sentence_similarity(sent1, sent2, stopwords=None):\n",
    "    if stopwords is None:\n",
    "        stopwords = []\n",
    " \n",
    "    sent1 = [w.lower() for w in sent1]\n",
    "    sent2 = [w.lower() for w in sent2]\n",
    " \n",
    "    all_words = list(set(sent1 + sent2))\n",
    " \n",
    "    vector1 = [0] * len(all_words)\n",
    "    vector2 = [0] * len(all_words)\n",
    " \n",
    "    # build the vector for the first sentence\n",
    "    for w in sent1:\n",
    "        if w in stopwords:\n",
    "            continue\n",
    "        vector1[all_words.index(w)] += 1\n",
    " \n",
    "    # build the vector for the second sentence\n",
    "    for w in sent2:\n",
    "        if w in stopwords:\n",
    "            continue\n",
    "        vector2[all_words.index(w)] += 1\n",
    " \n",
    "    return 1 - cosine_distance(vector1, vector2)"
   ]
  },
  {
   "cell_type": "code",
   "execution_count": 29,
   "id": "38f31279",
   "metadata": {},
   "outputs": [],
   "source": [
    "def build_similarity_matrix(sentences, stop_words):\n",
    "    # Create an empty similarity matrix\n",
    "    similarity_matrix = np.zeros((len(sentences), len(sentences)))\n",
    " \n",
    "    for idx1 in range(len(sentences)):\n",
    "        for idx2 in range(len(sentences)):\n",
    "            if idx1 == idx2: #ignore if both are same sentences\n",
    "                continue \n",
    "            similarity_matrix[idx1][idx2] = sentence_similarity(sentences[idx1], sentences[idx2], stop_words)\n",
    "\n",
    "    return similarity_matrix"
   ]
  },
  {
   "cell_type": "code",
   "execution_count": 30,
   "id": "99ef7060",
   "metadata": {},
   "outputs": [
    {
     "name": "stdout",
     "output_type": "stream",
     "text": [
      "Silks are strong protein fibers produced by a broad array of spiders and insects\n",
      "The vast majority of known silks are large, repetitive proteins assembled into extended β-sheet structures\n",
      "Honeybees, however, have found a radically different evolutionary solution to the need for a building material\n",
      "The 4 fibrous proteins of honeybee silk are small (∼30 kDa each) and nonrepetitive and adopt a coiled coil structure\n",
      "We examined silks from the 3 superfamilies of the Aculeata (Hymenoptera: Apocrita) by infrared spectroscopy and found coiled coil structure in bees (Apoidea) and in ants (Vespoidea) but not in parasitic wasps of the Chrysidoidea\n",
      "We subsequently identified and sequenced the silk genes of bumblebees, bulldog ants, and weaver ants and compared these with honeybee silk genes\n",
      "Each species produced orthologues of the 4 small fibroin proteins identified in honeybee silk\n",
      "Each fibroin contained a continuous predicted coiled coil region of around 210 residues, flanked by 23–160 residue length N- and C-termini\n",
      "The cores of the coiled coils were unusually rich in alanine\n",
      "There was extensive sequence divergence among the bee and ant silk genes (<50% similarity between the alignable regions of bee and ant sequences), consistent with constant and equivalent divergence since the bee/ant split (estimated to be 155 Myr)\n",
      "Despite a high background level of sequence diversity, we have identified conserved design elements that we propose are essential to the assembly and function of coiled coil silks.\n",
      "Summarize Text: \n",
      " The 4 fibrous proteins of honeybee silk are small (∼30 kDa each) and nonrepetitive and adopt a coiled coil structure. Each species produced orthologues of the 4 small fibroin proteins identified in honeybee silk\n"
     ]
    }
   ],
   "source": [
    "def generate_summary(file_name, top_n=5):\n",
    "    stop_words = stopwords.words('english')\n",
    "    summarize_text = []\n",
    "\n",
    "    # Step 1 - Read text anc split it\n",
    "    sentences =  read_article(file_name)\n",
    "\n",
    "    # Step 2 - Generate Similary Martix across sentences\n",
    "    sentence_similarity_martix = build_similarity_matrix(sentences, stop_words)\n",
    "\n",
    "    # Step 3 - Rank sentences in similarity martix\n",
    "    sentence_similarity_graph = nx.from_numpy_array(sentence_similarity_martix)\n",
    "    scores = nx.pagerank(sentence_similarity_graph)\n",
    "\n",
    "    # Step 4 - Sort the rank and pick top sentences\n",
    "    ranked_sentence = sorted(((scores[i],s) for i,s in enumerate(sentences)), reverse=True)    \n",
    "    #print(\"Indexes of top ranked_sentence order are \", ranked_sentence)    \n",
    "\n",
    "    for i in range(top_n):\n",
    "        summarize_text.append(\" \".join(ranked_sentence[i][1]))\n",
    "\n",
    "    # Step 5 - Offcourse, output the summarize texr\n",
    "    print(\"Summarize Text: \\n\", \". \".join(summarize_text))\n",
    "\n",
    "# let's begin\n",
    "generate_summary(\"Conservation_of_Essential_Design_Features_In_Coiled_Coil_Silks.txt\", 2)"
   ]
  },
  {
   "cell_type": "code",
   "execution_count": 31,
   "id": "92645e97",
   "metadata": {},
   "outputs": [
    {
     "name": "stdout",
     "output_type": "stream",
     "text": [
      "Silks are strong protein fibers produced by a broad array of spiders and insects\n",
      "The vast majority of known silks are large, repetitive proteins assembled into extended β-sheet structures\n",
      "Honeybees, however, have found a radically different evolutionary solution to the need for a building material\n",
      "The 4 fibrous proteins of honeybee silk are small (∼30 kDa each) and nonrepetitive and adopt a coiled coil structure\n",
      "We examined silks from the 3 superfamilies of the Aculeata (Hymenoptera: Apocrita) by infrared spectroscopy and found coiled coil structure in bees (Apoidea) and in ants (Vespoidea) but not in parasitic wasps of the Chrysidoidea\n",
      "We subsequently identified and sequenced the silk genes of bumblebees, bulldog ants, and weaver ants and compared these with honeybee silk genes\n",
      "Each species produced orthologues of the 4 small fibroin proteins identified in honeybee silk\n",
      "Each fibroin contained a continuous predicted coiled coil region of around 210 residues, flanked by 23–160 residue length N- and C-termini\n",
      "The cores of the coiled coils were unusually rich in alanine\n",
      "There was extensive sequence divergence among the bee and ant silk genes (<50% similarity between the alignable regions of bee and ant sequences), consistent with constant and equivalent divergence since the bee/ant split (estimated to be 155 Myr)\n",
      "Despite a high background level of sequence diversity, we have identified conserved design elements that we propose are essential to the assembly and function of coiled coil silks.\n",
      "Summarize Text: \n",
      " The 4 fibrous proteins of honeybee silk are small (∼30 kDa each) and nonrepetitive and adopt a coiled coil structure. Each species produced orthologues of the 4 small fibroin proteins identified in honeybee silk\n",
      "There was extensive sequence divergence among the bee and ant silk genes (<50% similarity between the alignable regions of bee and ant sequences), consistent with constant and equivalent divergence since the bee/ant split (estimated to be 155 Myr). None\n"
     ]
    }
   ],
   "source": [
    "print(summ, generate_summary( \"Conservation_of_Essential_Design_Features_In_Coiled_Coil_Silks.txt\", 2))"
   ]
  },
  {
   "cell_type": "code",
   "execution_count": 16,
   "id": "0bdf5c94",
   "metadata": {},
   "outputs": [],
   "source": [
    "# try on other abstracts (petalai.org)\n",
    "# See above for this."
   ]
  }
 ],
 "metadata": {
  "kernelspec": {
   "display_name": "Python 3 (ipykernel)",
   "language": "python",
   "name": "python3"
  },
  "language_info": {
   "codemirror_mode": {
    "name": "ipython",
    "version": 3
   },
   "file_extension": ".py",
   "mimetype": "text/x-python",
   "name": "python",
   "nbconvert_exporter": "python",
   "pygments_lexer": "ipython3",
   "version": "3.9.1"
  }
 },
 "nbformat": 4,
 "nbformat_minor": 5
}
